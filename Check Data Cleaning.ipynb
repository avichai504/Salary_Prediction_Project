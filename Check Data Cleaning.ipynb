{
 "cells": [
  {
   "cell_type": "code",
   "execution_count": 12,
   "metadata": {
    "collapsed": true,
    "ExecuteTime": {
     "start_time": "2023-06-01T12:29:14.027310Z",
     "end_time": "2023-06-01T12:29:14.074177Z"
    }
   },
   "outputs": [],
   "source": [
    "import pandas as pd\n",
    "import os\n",
    "import Data_Cleaning as dc"
   ]
  },
  {
   "cell_type": "code",
   "execution_count": 18,
   "outputs": [
    {
     "name": "stdout",
     "output_type": "stream",
     "text": [
      "Before dropping duplicates: (38943, 27)\n",
      "After dropping all duplicates: (38876, 27)\n",
      "jobs shape = (14922, 26)\n"
     ]
    },
    {
     "data": {
      "text/plain": "       Salary Estimate  Annual Salary  \\\n0   $98,519 /yr (est.)        98519.0   \n1   $92,000 /yr (est.)        92000.0   \n2   $88,154 /yr (est.)        88154.0   \n3   $74,500 /yr (est.)        74500.0   \n4  $126,897 /yr (est.)       126897.0   \n\n                                           Job Title Experience Education  \\\n0           Autonomous and Embedded Systems Engineer          0         1   \n1                                  Software Engineer          5         1   \n2                  Systems Engineer/ Medical Devices          0         1   \n3  Software Engineer (Vehicle Automation and Auto...          0         1   \n4                Motion Planning Engineer, Autopilot          0         1   \n\n  Position                     Company Name Location  Rating Is Remote  ...  \\\n0        1           MIT Lincoln Laboratory       MA     4.3         0  ...   \n1        1  Oasys International Corporation       UT     3.7         0  ...   \n2       -1                   Analog Devices       MA     4.1         0  ...   \n3        1              Kubota Tractor Corp       AZ     3.5         0  ...   \n4       -1                            Tesla       CA     3.6         0  ...   \n\n                    Revenue Career Opportunities Comp & Benefits  \\\n0  Unknown / Non-Applicable                  3.8             4.0   \n1    $1 to $5 million (USD)                  3.8             4.0   \n2        $10+ billion (USD)                  3.9             3.7   \n3   $5 to $25 million (USD)                  3.1             3.4   \n4    $1 to $5 billion (USD)                  3.7             3.7   \n\n  Culture & Values Senior Management Work Life Balance Time Unit  \\\n0              4.1               3.6               4.4        yr   \n1              3.9               3.8               4.3        yr   \n2              4.0               3.6               3.9        yr   \n3              3.2               3.1               3.4        yr   \n4              3.4               3.1               2.9        yr   \n\n   Scale_Company_Size  Scale_Revenue  Origin  \n0                 NaN            NaN     NaN  \n1                 NaN            NaN     NaN  \n2                 NaN            NaN     NaN  \n3                 NaN            NaN     NaN  \n4                 NaN            NaN     NaN  \n\n[5 rows x 26 columns]",
      "text/html": "<div>\n<style scoped>\n    .dataframe tbody tr th:only-of-type {\n        vertical-align: middle;\n    }\n\n    .dataframe tbody tr th {\n        vertical-align: top;\n    }\n\n    .dataframe thead th {\n        text-align: right;\n    }\n</style>\n<table border=\"1\" class=\"dataframe\">\n  <thead>\n    <tr style=\"text-align: right;\">\n      <th></th>\n      <th>Salary Estimate</th>\n      <th>Annual Salary</th>\n      <th>Job Title</th>\n      <th>Experience</th>\n      <th>Education</th>\n      <th>Position</th>\n      <th>Company Name</th>\n      <th>Location</th>\n      <th>Rating</th>\n      <th>Is Remote</th>\n      <th>...</th>\n      <th>Revenue</th>\n      <th>Career Opportunities</th>\n      <th>Comp &amp; Benefits</th>\n      <th>Culture &amp; Values</th>\n      <th>Senior Management</th>\n      <th>Work Life Balance</th>\n      <th>Time Unit</th>\n      <th>Scale_Company_Size</th>\n      <th>Scale_Revenue</th>\n      <th>Origin</th>\n    </tr>\n  </thead>\n  <tbody>\n    <tr>\n      <th>0</th>\n      <td>$98,519 /yr (est.)</td>\n      <td>98519.0</td>\n      <td>Autonomous and Embedded Systems Engineer</td>\n      <td>0</td>\n      <td>1</td>\n      <td>1</td>\n      <td>MIT Lincoln Laboratory</td>\n      <td>MA</td>\n      <td>4.3</td>\n      <td>0</td>\n      <td>...</td>\n      <td>Unknown / Non-Applicable</td>\n      <td>3.8</td>\n      <td>4.0</td>\n      <td>4.1</td>\n      <td>3.6</td>\n      <td>4.4</td>\n      <td>yr</td>\n      <td>NaN</td>\n      <td>NaN</td>\n      <td>NaN</td>\n    </tr>\n    <tr>\n      <th>1</th>\n      <td>$92,000 /yr (est.)</td>\n      <td>92000.0</td>\n      <td>Software Engineer</td>\n      <td>5</td>\n      <td>1</td>\n      <td>1</td>\n      <td>Oasys International Corporation</td>\n      <td>UT</td>\n      <td>3.7</td>\n      <td>0</td>\n      <td>...</td>\n      <td>$1 to $5 million (USD)</td>\n      <td>3.8</td>\n      <td>4.0</td>\n      <td>3.9</td>\n      <td>3.8</td>\n      <td>4.3</td>\n      <td>yr</td>\n      <td>NaN</td>\n      <td>NaN</td>\n      <td>NaN</td>\n    </tr>\n    <tr>\n      <th>2</th>\n      <td>$88,154 /yr (est.)</td>\n      <td>88154.0</td>\n      <td>Systems Engineer/ Medical Devices</td>\n      <td>0</td>\n      <td>1</td>\n      <td>-1</td>\n      <td>Analog Devices</td>\n      <td>MA</td>\n      <td>4.1</td>\n      <td>0</td>\n      <td>...</td>\n      <td>$10+ billion (USD)</td>\n      <td>3.9</td>\n      <td>3.7</td>\n      <td>4.0</td>\n      <td>3.6</td>\n      <td>3.9</td>\n      <td>yr</td>\n      <td>NaN</td>\n      <td>NaN</td>\n      <td>NaN</td>\n    </tr>\n    <tr>\n      <th>3</th>\n      <td>$74,500 /yr (est.)</td>\n      <td>74500.0</td>\n      <td>Software Engineer (Vehicle Automation and Auto...</td>\n      <td>0</td>\n      <td>1</td>\n      <td>1</td>\n      <td>Kubota Tractor Corp</td>\n      <td>AZ</td>\n      <td>3.5</td>\n      <td>0</td>\n      <td>...</td>\n      <td>$5 to $25 million (USD)</td>\n      <td>3.1</td>\n      <td>3.4</td>\n      <td>3.2</td>\n      <td>3.1</td>\n      <td>3.4</td>\n      <td>yr</td>\n      <td>NaN</td>\n      <td>NaN</td>\n      <td>NaN</td>\n    </tr>\n    <tr>\n      <th>4</th>\n      <td>$126,897 /yr (est.)</td>\n      <td>126897.0</td>\n      <td>Motion Planning Engineer, Autopilot</td>\n      <td>0</td>\n      <td>1</td>\n      <td>-1</td>\n      <td>Tesla</td>\n      <td>CA</td>\n      <td>3.6</td>\n      <td>0</td>\n      <td>...</td>\n      <td>$1 to $5 billion (USD)</td>\n      <td>3.7</td>\n      <td>3.7</td>\n      <td>3.4</td>\n      <td>3.1</td>\n      <td>2.9</td>\n      <td>yr</td>\n      <td>NaN</td>\n      <td>NaN</td>\n      <td>NaN</td>\n    </tr>\n  </tbody>\n</table>\n<p>5 rows × 26 columns</p>\n</div>"
     },
     "execution_count": 18,
     "metadata": {},
     "output_type": "execute_result"
    }
   ],
   "source": [
    "jobs = dc.merge_csv_files_in_folder('data files/marge')\n",
    "jobs.drop('Time of Scrape', inplace=True, axis=1)\n",
    "jobs.drop_duplicates(keep='first', inplace=True)\n",
    "\n",
    "print(f\"jobs shape = {jobs.shape}\")\n",
    "jobs.head()"
   ],
   "metadata": {
    "collapsed": false,
    "ExecuteTime": {
     "start_time": "2023-06-01T12:33:03.162282Z",
     "end_time": "2023-06-01T12:33:04.141265Z"
    }
   }
  },
  {
   "cell_type": "markdown",
   "source": [
    "### Start the cleaning process\n",
    "- The **'raw data'** represents all the data that was scraped from the 'Glassdoor' website.\n",
    "- The **'clean data'** represents data without duplicates and without unnecessary columns that were used for debugging purposes.\n",
    "- The **'final data'** represents the database with no missing values in the crucial columns (Annual Salary, Experience, Education)."
   ],
   "metadata": {
    "collapsed": false
   }
  },
  {
   "cell_type": "code",
   "execution_count": 13,
   "outputs": [],
   "source": [],
   "metadata": {
    "collapsed": false,
    "ExecuteTime": {
     "start_time": "2023-06-01T12:29:15.018524Z",
     "end_time": "2023-06-01T12:29:15.034146Z"
    }
   }
  }
 ],
 "metadata": {
  "kernelspec": {
   "display_name": "Python 3",
   "language": "python",
   "name": "python3"
  },
  "language_info": {
   "codemirror_mode": {
    "name": "ipython",
    "version": 2
   },
   "file_extension": ".py",
   "mimetype": "text/x-python",
   "name": "python",
   "nbconvert_exporter": "python",
   "pygments_lexer": "ipython2",
   "version": "2.7.6"
  }
 },
 "nbformat": 4,
 "nbformat_minor": 0
}
