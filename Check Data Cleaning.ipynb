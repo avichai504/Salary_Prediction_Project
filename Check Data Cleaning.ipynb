{
 "cells": [
  {
   "cell_type": "code",
   "execution_count": 36,
   "metadata": {
    "collapsed": true,
    "ExecuteTime": {
     "start_time": "2023-05-15T16:18:17.636268Z",
     "end_time": "2023-05-15T16:18:17.689761Z"
    }
   },
   "outputs": [],
   "source": [
    "import pandas as pd"
   ]
  },
  {
   "cell_type": "markdown",
   "source": [
    "### Start the cleaning process\n",
    "- The **'raw data'** represents all the data that was scraped from the 'Glassdoor' website.\n",
    "- The **'clean data'** represents data without duplicates and without unnecessary columns that were used for debugging purposes.\n",
    "- The **'final data'** represents the database with no missing values in the crucial columns (Annual Salary, Experience, Education)."
   ],
   "metadata": {
    "collapsed": false
   }
  },
  {
   "cell_type": "code",
   "execution_count": 37,
   "outputs": [
    {
     "data": {
      "text/plain": "(653, 15)"
     },
     "execution_count": 37,
     "metadata": {},
     "output_type": "execute_result"
    }
   ],
   "source": [
    "df1 = pd.read_csv(\"final data/software engineer final data 3500.csv\")\n",
    "df1.shape"
   ],
   "metadata": {
    "collapsed": false,
    "ExecuteTime": {
     "start_time": "2023-05-15T16:18:17.718136Z",
     "end_time": "2023-05-15T16:18:18.023815Z"
    }
   }
  },
  {
   "cell_type": "code",
   "execution_count": 38,
   "outputs": [
    {
     "data": {
      "text/plain": "(653, 14)"
     },
     "execution_count": 38,
     "metadata": {},
     "output_type": "execute_result"
    }
   ],
   "source": [
    "df1 = df1.loc[:, ~df1.columns.str.contains('^Unnamed')]\n",
    "df1.shape"
   ],
   "metadata": {
    "collapsed": false,
    "ExecuteTime": {
     "start_time": "2023-05-15T16:18:18.035832Z",
     "end_time": "2023-05-15T16:18:18.148789Z"
    }
   }
  },
  {
   "cell_type": "code",
   "execution_count": 39,
   "outputs": [
    {
     "data": {
      "text/plain": "580"
     },
     "execution_count": 39,
     "metadata": {},
     "output_type": "execute_result"
    }
   ],
   "source": [
    "df1.duplicated().sum()"
   ],
   "metadata": {
    "collapsed": false,
    "ExecuteTime": {
     "start_time": "2023-05-15T16:18:18.103581Z",
     "end_time": "2023-05-15T16:18:18.247563Z"
    }
   }
  },
  {
   "cell_type": "code",
   "execution_count": 40,
   "outputs": [
    {
     "data": {
      "text/plain": "(73, 14)"
     },
     "execution_count": 40,
     "metadata": {},
     "output_type": "execute_result"
    }
   ],
   "source": [
    "df1.drop_duplicates(keep='first', inplace=True)\n",
    "df1.shape"
   ],
   "metadata": {
    "collapsed": false,
    "ExecuteTime": {
     "start_time": "2023-05-15T16:18:18.194470Z",
     "end_time": "2023-05-15T16:18:18.247563Z"
    }
   }
  },
  {
   "cell_type": "code",
   "execution_count": 41,
   "outputs": [
    {
     "data": {
      "text/plain": "                                     Job Title  Annual Salary  Experience  \\\n0                            Frontend Engineer       125000.0           1   \n1                  Junior Level Cloud Engineer        88400.0           1   \n2                 Full Stack Software Engineer       125000.0           1   \n3    Associate Software Engineer - Entry Level        90000.0           3   \n4                            Software Engineer       115000.0           2   \n..                                         ...            ...         ...   \n270                Software Engineer - Angular       160160.0           3   \n318              Full Stack Software Developer       107500.0           2   \n381                             Cloud Engineer       124800.0           3   \n451                         AWS Cloud Engineer       104000.0           4   \n565                             Cloud Engineer       145000.0           5   \n\n     Education  Is Remote  Company Size Scale  Company Old  Revenue Scale  \\\n0            1          1                   1           14             -1   \n1            2          1                   2           23             -1   \n2            1          1                   1           14             -1   \n3            1          0                   1           -1              3   \n4            1          1                   2           -1             -1   \n..         ...        ...                 ...          ...            ...   \n270          1          0                   3            9              6   \n318          1          1                  -1           -1             -1   \n381          1          0                   2           18             -1   \n451          1          0                   3           10              3   \n565          1          1                   2           12             -1   \n\n     Rating  Career Opportunities  Comp & Benefits  Culture & Values  \\\n0       4.3                   3.8              3.5               4.4   \n1       3.9                   3.5              3.4               3.6   \n2       4.3                   3.8              3.5               4.4   \n3       3.4                   2.6              2.7               3.3   \n4       4.8                   4.4              4.4               4.7   \n..      ...                   ...              ...               ...   \n270     4.4                   4.2              4.1               4.3   \n318    -1.0                  -1.0             -1.0              -1.0   \n381     4.4                   4.2              4.3               4.4   \n451     4.3                   4.3              4.4               4.4   \n565     4.3                   4.3              4.2               4.3   \n\n     Senior Management  Work Life Balance  \n0                  4.0                4.0  \n1                  3.7                3.5  \n2                  4.0                4.0  \n3                  2.8                3.0  \n4                  4.7                5.0  \n..                 ...                ...  \n270                4.1                4.3  \n318               -1.0               -1.0  \n381                4.3                4.5  \n451                4.5                4.3  \n565                4.0                3.5  \n\n[73 rows x 14 columns]",
      "text/html": "<div>\n<style scoped>\n    .dataframe tbody tr th:only-of-type {\n        vertical-align: middle;\n    }\n\n    .dataframe tbody tr th {\n        vertical-align: top;\n    }\n\n    .dataframe thead th {\n        text-align: right;\n    }\n</style>\n<table border=\"1\" class=\"dataframe\">\n  <thead>\n    <tr style=\"text-align: right;\">\n      <th></th>\n      <th>Job Title</th>\n      <th>Annual Salary</th>\n      <th>Experience</th>\n      <th>Education</th>\n      <th>Is Remote</th>\n      <th>Company Size Scale</th>\n      <th>Company Old</th>\n      <th>Revenue Scale</th>\n      <th>Rating</th>\n      <th>Career Opportunities</th>\n      <th>Comp &amp; Benefits</th>\n      <th>Culture &amp; Values</th>\n      <th>Senior Management</th>\n      <th>Work Life Balance</th>\n    </tr>\n  </thead>\n  <tbody>\n    <tr>\n      <th>0</th>\n      <td>Frontend Engineer</td>\n      <td>125000.0</td>\n      <td>1</td>\n      <td>1</td>\n      <td>1</td>\n      <td>1</td>\n      <td>14</td>\n      <td>-1</td>\n      <td>4.3</td>\n      <td>3.8</td>\n      <td>3.5</td>\n      <td>4.4</td>\n      <td>4.0</td>\n      <td>4.0</td>\n    </tr>\n    <tr>\n      <th>1</th>\n      <td>Junior Level Cloud Engineer</td>\n      <td>88400.0</td>\n      <td>1</td>\n      <td>2</td>\n      <td>1</td>\n      <td>2</td>\n      <td>23</td>\n      <td>-1</td>\n      <td>3.9</td>\n      <td>3.5</td>\n      <td>3.4</td>\n      <td>3.6</td>\n      <td>3.7</td>\n      <td>3.5</td>\n    </tr>\n    <tr>\n      <th>2</th>\n      <td>Full Stack Software Engineer</td>\n      <td>125000.0</td>\n      <td>1</td>\n      <td>1</td>\n      <td>1</td>\n      <td>1</td>\n      <td>14</td>\n      <td>-1</td>\n      <td>4.3</td>\n      <td>3.8</td>\n      <td>3.5</td>\n      <td>4.4</td>\n      <td>4.0</td>\n      <td>4.0</td>\n    </tr>\n    <tr>\n      <th>3</th>\n      <td>Associate Software Engineer - Entry Level</td>\n      <td>90000.0</td>\n      <td>3</td>\n      <td>1</td>\n      <td>0</td>\n      <td>1</td>\n      <td>-1</td>\n      <td>3</td>\n      <td>3.4</td>\n      <td>2.6</td>\n      <td>2.7</td>\n      <td>3.3</td>\n      <td>2.8</td>\n      <td>3.0</td>\n    </tr>\n    <tr>\n      <th>4</th>\n      <td>Software Engineer</td>\n      <td>115000.0</td>\n      <td>2</td>\n      <td>1</td>\n      <td>1</td>\n      <td>2</td>\n      <td>-1</td>\n      <td>-1</td>\n      <td>4.8</td>\n      <td>4.4</td>\n      <td>4.4</td>\n      <td>4.7</td>\n      <td>4.7</td>\n      <td>5.0</td>\n    </tr>\n    <tr>\n      <th>...</th>\n      <td>...</td>\n      <td>...</td>\n      <td>...</td>\n      <td>...</td>\n      <td>...</td>\n      <td>...</td>\n      <td>...</td>\n      <td>...</td>\n      <td>...</td>\n      <td>...</td>\n      <td>...</td>\n      <td>...</td>\n      <td>...</td>\n      <td>...</td>\n    </tr>\n    <tr>\n      <th>270</th>\n      <td>Software Engineer - Angular</td>\n      <td>160160.0</td>\n      <td>3</td>\n      <td>1</td>\n      <td>0</td>\n      <td>3</td>\n      <td>9</td>\n      <td>6</td>\n      <td>4.4</td>\n      <td>4.2</td>\n      <td>4.1</td>\n      <td>4.3</td>\n      <td>4.1</td>\n      <td>4.3</td>\n    </tr>\n    <tr>\n      <th>318</th>\n      <td>Full Stack Software Developer</td>\n      <td>107500.0</td>\n      <td>2</td>\n      <td>1</td>\n      <td>1</td>\n      <td>-1</td>\n      <td>-1</td>\n      <td>-1</td>\n      <td>-1.0</td>\n      <td>-1.0</td>\n      <td>-1.0</td>\n      <td>-1.0</td>\n      <td>-1.0</td>\n      <td>-1.0</td>\n    </tr>\n    <tr>\n      <th>381</th>\n      <td>Cloud Engineer</td>\n      <td>124800.0</td>\n      <td>3</td>\n      <td>1</td>\n      <td>0</td>\n      <td>2</td>\n      <td>18</td>\n      <td>-1</td>\n      <td>4.4</td>\n      <td>4.2</td>\n      <td>4.3</td>\n      <td>4.4</td>\n      <td>4.3</td>\n      <td>4.5</td>\n    </tr>\n    <tr>\n      <th>451</th>\n      <td>AWS Cloud Engineer</td>\n      <td>104000.0</td>\n      <td>4</td>\n      <td>1</td>\n      <td>0</td>\n      <td>3</td>\n      <td>10</td>\n      <td>3</td>\n      <td>4.3</td>\n      <td>4.3</td>\n      <td>4.4</td>\n      <td>4.4</td>\n      <td>4.5</td>\n      <td>4.3</td>\n    </tr>\n    <tr>\n      <th>565</th>\n      <td>Cloud Engineer</td>\n      <td>145000.0</td>\n      <td>5</td>\n      <td>1</td>\n      <td>1</td>\n      <td>2</td>\n      <td>12</td>\n      <td>-1</td>\n      <td>4.3</td>\n      <td>4.3</td>\n      <td>4.2</td>\n      <td>4.3</td>\n      <td>4.0</td>\n      <td>3.5</td>\n    </tr>\n  </tbody>\n</table>\n<p>73 rows × 14 columns</p>\n</div>"
     },
     "execution_count": 41,
     "metadata": {},
     "output_type": "execute_result"
    }
   ],
   "source": [
    "df1.head(146)"
   ],
   "metadata": {
    "collapsed": false,
    "ExecuteTime": {
     "start_time": "2023-05-15T16:18:18.220727Z",
     "end_time": "2023-05-15T16:18:18.377979Z"
    }
   }
  },
  {
   "cell_type": "code",
   "execution_count": 42,
   "outputs": [
    {
     "data": {
      "text/plain": "(87, 15)"
     },
     "execution_count": 42,
     "metadata": {},
     "output_type": "execute_result"
    }
   ],
   "source": [
    "df2 = pd.read_csv(\"software engineer final data 200.csv\")\n",
    "df2.shape\n"
   ],
   "metadata": {
    "collapsed": false,
    "ExecuteTime": {
     "start_time": "2023-05-15T16:18:18.316613Z",
     "end_time": "2023-05-15T16:18:18.401261Z"
    }
   }
  },
  {
   "cell_type": "code",
   "execution_count": 43,
   "outputs": [
    {
     "data": {
      "text/plain": "(87, 14)"
     },
     "execution_count": 43,
     "metadata": {},
     "output_type": "execute_result"
    }
   ],
   "source": [
    "df2 = df2.loc[:, ~df2.columns.str.contains('^Unnamed')]\n",
    "df2.shape"
   ],
   "metadata": {
    "collapsed": false,
    "ExecuteTime": {
     "start_time": "2023-05-15T16:18:18.371321Z",
     "end_time": "2023-05-15T16:18:18.513001Z"
    }
   }
  },
  {
   "cell_type": "code",
   "execution_count": 44,
   "outputs": [
    {
     "data": {
      "text/plain": "37"
     },
     "execution_count": 44,
     "metadata": {},
     "output_type": "execute_result"
    }
   ],
   "source": [
    "df2.duplicated().sum()"
   ],
   "metadata": {
    "collapsed": false,
    "ExecuteTime": {
     "start_time": "2023-05-15T16:18:18.394211Z",
     "end_time": "2023-05-15T16:18:18.513001Z"
    }
   }
  },
  {
   "cell_type": "code",
   "execution_count": 45,
   "outputs": [
    {
     "data": {
      "text/plain": "(50, 14)"
     },
     "execution_count": 45,
     "metadata": {},
     "output_type": "execute_result"
    }
   ],
   "source": [
    "df2.drop_duplicates(keep='first', inplace=True)\n",
    "df2.shape"
   ],
   "metadata": {
    "collapsed": false,
    "ExecuteTime": {
     "start_time": "2023-05-15T16:18:18.432755Z",
     "end_time": "2023-05-15T16:18:18.640198Z"
    }
   }
  },
  {
   "cell_type": "markdown",
   "source": [
    "# Margin two files to check duplications"
   ],
   "metadata": {
    "collapsed": false
   }
  },
  {
   "cell_type": "code",
   "execution_count": 46,
   "outputs": [
    {
     "data": {
      "text/plain": "(740, 15)"
     },
     "execution_count": 46,
     "metadata": {},
     "output_type": "execute_result"
    }
   ],
   "source": [
    "files = [\"software engineer final data 200.csv\", \"final data/software engineer final data 3500.csv\"]\n",
    "df = pd.DataFrame()\n",
    "\n",
    "for file in files:\n",
    "    data = pd.read_csv(file)\n",
    "    df = pd.concat([df, data], axis=0)\n",
    "\n",
    "df.to_csv(\"marge software engineer.csv\", index=False)\n",
    "df.shape\n"
   ],
   "metadata": {
    "collapsed": false,
    "ExecuteTime": {
     "start_time": "2023-05-15T16:18:18.481976Z",
     "end_time": "2023-05-15T16:18:18.815070Z"
    }
   }
  },
  {
   "cell_type": "code",
   "execution_count": 47,
   "outputs": [
    {
     "data": {
      "text/plain": "(740, 14)"
     },
     "execution_count": 47,
     "metadata": {},
     "output_type": "execute_result"
    }
   ],
   "source": [
    "df = df.loc[:, ~df.columns.str.contains('^Unnamed')]\n",
    "df.shape"
   ],
   "metadata": {
    "collapsed": false,
    "ExecuteTime": {
     "start_time": "2023-05-15T16:18:18.572016Z",
     "end_time": "2023-05-15T16:18:18.878695Z"
    }
   }
  },
  {
   "cell_type": "markdown",
   "source": [],
   "metadata": {
    "collapsed": false
   }
  },
  {
   "cell_type": "code",
   "execution_count": 48,
   "outputs": [
    {
     "data": {
      "text/plain": "(92, 14)"
     },
     "execution_count": 48,
     "metadata": {},
     "output_type": "execute_result"
    }
   ],
   "source": [
    "df = df.loc[:, ~df.columns.str.contains('^Unnamed')]\n",
    "df.drop_duplicates(keep='first', inplace=True)\n",
    "df.shape"
   ],
   "metadata": {
    "collapsed": false,
    "ExecuteTime": {
     "start_time": "2023-05-15T16:18:18.594044Z",
     "end_time": "2023-05-15T16:18:18.878695Z"
    }
   }
  },
  {
   "cell_type": "code",
   "execution_count": 49,
   "outputs": [
    {
     "data": {
      "text/plain": "Index(['Unnamed: 0', 'Job Title', 'Annual Salary', 'Experience', 'Education',\n       'Is Remote', 'Company Size Scale', 'Company Old', 'Revenue Scale',\n       'Rating', 'Career Opportunities', 'Comp & Benefits', 'Culture & Values',\n       'Senior Management', 'Work Life Balance'],\n      dtype='object')"
     },
     "execution_count": 49,
     "metadata": {},
     "output_type": "execute_result"
    }
   ],
   "source": [
    "df = pd.read_csv(\"database_web_86.csv\")\n",
    "df.columns"
   ],
   "metadata": {
    "collapsed": false,
    "ExecuteTime": {
     "start_time": "2023-05-15T16:19:09.654856Z",
     "end_time": "2023-05-15T16:19:09.719929Z"
    }
   }
  },
  {
   "cell_type": "code",
   "execution_count": 50,
   "outputs": [
    {
     "data": {
      "text/plain": "Index(['Unnamed: 0', 'Job Title', 'Experience', 'Position', 'Education',\n       'Company Name', 'Salary Estimate', 'Location', 'Rating', 'Is Remote',\n       'Company Size', 'Founded', 'Type of Ownership', 'Industry', 'Sector',\n       'Revenue', 'Career Opportunities', 'Comp & Benefits',\n       'Culture & Values', 'Senior Management', 'Work Life Balance',\n       'Time of Scrape'],\n      dtype='object')"
     },
     "execution_count": 50,
     "metadata": {},
     "output_type": "execute_result"
    }
   ],
   "source": [
    "df = pd.read_csv(\"raw data/data science1000_var2.csv\")\n",
    "df.columns"
   ],
   "metadata": {
    "collapsed": false,
    "ExecuteTime": {
     "start_time": "2023-05-15T17:08:01.716727Z",
     "end_time": "2023-05-15T17:08:01.753043Z"
    }
   }
  },
  {
   "cell_type": "code",
   "execution_count": null,
   "outputs": [],
   "source": [],
   "metadata": {
    "collapsed": false
   }
  }
 ],
 "metadata": {
  "kernelspec": {
   "display_name": "Python 3",
   "language": "python",
   "name": "python3"
  },
  "language_info": {
   "codemirror_mode": {
    "name": "ipython",
    "version": 2
   },
   "file_extension": ".py",
   "mimetype": "text/x-python",
   "name": "python",
   "nbconvert_exporter": "python",
   "pygments_lexer": "ipython2",
   "version": "2.7.6"
  }
 },
 "nbformat": 4,
 "nbformat_minor": 0
}
