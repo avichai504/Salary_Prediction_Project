{
 "cells": [
  {
   "cell_type": "code",
   "execution_count": 41,
   "metadata": {
    "collapsed": true,
    "ExecuteTime": {
     "start_time": "2023-05-20T20:54:05.442322Z",
     "end_time": "2023-05-20T20:54:05.462527Z"
    }
   },
   "outputs": [],
   "source": [
    "import pandas as pd"
   ]
  },
  {
   "cell_type": "markdown",
   "source": [
    "### Start the cleaning process\n",
    "- The **'raw data'** represents all the data that was scraped from the 'Glassdoor' website.\n",
    "- The **'clean data'** represents data without duplicates and without unnecessary columns that were used for debugging purposes.\n",
    "- The **'final data'** represents the database with no missing values in the crucial columns (Annual Salary, Experience, Education)."
   ],
   "metadata": {
    "collapsed": false
   }
  },
  {
   "cell_type": "code",
   "execution_count": 37,
   "outputs": [
    {
     "name": "stdout",
     "output_type": "stream",
     "text": [
      "(38, 25)\n",
      "(33, 25)\n",
      "(39, 25)\n",
      "(40, 25)\n",
      "(38, 25)\n",
      "(188, 25)\n"
     ]
    }
   ],
   "source": [
    "df0 = pd.read_csv(\"0_QA clean data 50.csv\")\n",
    "df1 = pd.read_csv(\"1_QA clean data 50.csv\")\n",
    "df2 = pd.read_csv(\"2_QA clean data 50.csv\")\n",
    "df3 = pd.read_csv(\"3_QA clean data 50.csv\")\n",
    "df4 = pd.read_csv(\"4_QA clean data 50.csv\")\n",
    "df = pd.concat([df0, df1, df2, df3, df4], axis=0)\n",
    "print(df0.shape)\n",
    "print(df1.shape)\n",
    "print(df2.shape)\n",
    "print(df3.shape)\n",
    "print(df4.shape)\n",
    "print(df.shape)"
   ],
   "metadata": {
    "collapsed": false,
    "ExecuteTime": {
     "start_time": "2023-05-20T14:14:48.943432Z",
     "end_time": "2023-05-20T14:14:49.000276Z"
    }
   }
  },
  {
   "cell_type": "code",
   "execution_count": 38,
   "outputs": [
    {
     "data": {
      "text/plain": "(188, 23)"
     },
     "execution_count": 38,
     "metadata": {},
     "output_type": "execute_result"
    }
   ],
   "source": [
    "df = df.loc[:, ~df.columns.str.contains('^Unnamed')]\n",
    "df = df.loc[:, ~df.columns.str.contains('Time of Scrape')]\n",
    "\n",
    "df.shape"
   ],
   "metadata": {
    "collapsed": false,
    "ExecuteTime": {
     "start_time": "2023-05-20T14:14:56.024801Z",
     "end_time": "2023-05-20T14:14:56.041278Z"
    }
   }
  },
  {
   "cell_type": "code",
   "execution_count": 39,
   "outputs": [
    {
     "data": {
      "text/plain": "115"
     },
     "execution_count": 39,
     "metadata": {},
     "output_type": "execute_result"
    }
   ],
   "source": [
    "df.duplicated().sum()  # 41  78  115"
   ],
   "metadata": {
    "collapsed": false,
    "ExecuteTime": {
     "start_time": "2023-05-20T14:14:59.187317Z",
     "end_time": "2023-05-20T14:14:59.217236Z"
    }
   }
  },
  {
   "cell_type": "code",
   "execution_count": 40,
   "outputs": [
    {
     "data": {
      "text/plain": "(73, 23)"
     },
     "execution_count": 40,
     "metadata": {},
     "output_type": "execute_result"
    }
   ],
   "source": [
    "df.drop_duplicates(keep='first', inplace=True)\n",
    "df.shape"
   ],
   "metadata": {
    "collapsed": false,
    "ExecuteTime": {
     "start_time": "2023-05-20T14:15:04.037959Z",
     "end_time": "2023-05-20T14:15:04.065423Z"
    }
   }
  },
  {
   "cell_type": "code",
   "execution_count": 43,
   "outputs": [
    {
     "data": {
      "text/plain": "(1282, 23)"
     },
     "execution_count": 43,
     "metadata": {},
     "output_type": "execute_result"
    }
   ],
   "source": [
    "df = pd.read_csv('_QA clean data 3000.csv')\n",
    "df = df.loc[:, ~df.columns.str.contains('^Unnamed')]\n",
    "df = df.loc[:, ~df.columns.str.contains('Time of Scrape')]\n",
    "\n",
    "df.shape"
   ],
   "metadata": {
    "collapsed": false,
    "ExecuteTime": {
     "start_time": "2023-05-20T20:55:22.684246Z",
     "end_time": "2023-05-20T20:55:22.758811Z"
    }
   }
  },
  {
   "cell_type": "code",
   "execution_count": 45,
   "outputs": [
    {
     "data": {
      "text/plain": "(182, 23)"
     },
     "execution_count": 45,
     "metadata": {},
     "output_type": "execute_result"
    }
   ],
   "source": [
    "df.drop_duplicates(keep='first', inplace=True)\n",
    "df.shape"
   ],
   "metadata": {
    "collapsed": false,
    "ExecuteTime": {
     "start_time": "2023-05-20T20:56:19.594988Z",
     "end_time": "2023-05-20T20:56:19.648601Z"
    }
   }
  },
  {
   "cell_type": "code",
   "execution_count": 46,
   "outputs": [],
   "source": [
    "df.to_csv('QA_182.csv')"
   ],
   "metadata": {
    "collapsed": false,
    "ExecuteTime": {
     "start_time": "2023-05-20T20:57:07.222884Z",
     "end_time": "2023-05-20T20:57:07.362471Z"
    }
   }
  },
  {
   "cell_type": "code",
   "execution_count": 47,
   "outputs": [
    {
     "data": {
      "text/plain": "          Salary Estimate  Annual Salary  \\\n0       $52.50 /hr (est.)       109200.0   \n1       $55.00 /hr (est.)       114400.0   \n2       $75.00 /hr (est.)       156000.0   \n3     $112,168 /yr (est.)       112168.0   \n4      $98,320 /yr (est.)        98320.0   \n...                   ...            ...   \n1002   $54,861 /yr (est.)        54861.0   \n1138   $72,225 /yr (est.)        72225.0   \n1210   $77,640 /yr (est.)        77640.0   \n1211   $65,000 /yr (est.)        65000.0   \n1269    $55.00 /hr (est.)       114400.0   \n\n                                   Job Title  Experience  Education  Position  \\\n0                           QA Test Engineer           0          1        -1   \n1                                 UAT Tester           8          1        -1   \n2                    Senior Manual QA Tester          -1         -1        -1   \n3                     Specialist QA (Remote)          10          1         0   \n4        Software QA Test & Release Engineer           4          1        -1   \n...                                      ...         ...        ...       ...   \n1002                           Specialist QA          10          1         0   \n1138  Quality Assurance Analyst (QA Analyst)           0          2        -1   \n1210                              QA Analyst           0          1        -1   \n1211                              QA Analyst           0          1         1   \n1269                       QA Mobile Analyst           5          2         1   \n\n                    Company Name              Location  Rating  Is Remote  \\\n0                         Kanini                Remote    -1.0          1   \n1      Cloud and Things Inc\\n4.6                Remote     4.6          1   \n2                Match Made Tech            Irvine, CA    -1.0          0   \n3                     Amgen\\n4.2     Thousand Oaks, CA     4.2          0   \n4               Synaty Tech\\n5.0  Colorado Springs, CO     5.0          0   \n...                          ...                   ...     ...        ...   \n1002                  PACIV\\n3.3          San Juan, PR     3.3          0   \n1138        Essani International       South Elgin, IL    -1.0          0   \n1210                      Mayura        Woodbridge, NJ    -1.0          0   \n1211  Baldwin Risk Partners\\n3.8          New York, NY     3.8          0   \n1269         IT Engagements,Inc.            Denver, CO    -1.0          0   \n\n      ...  Type of Ownership                   Industry  \\\n0     ...                 -1                         -1   \n1     ...                 -1                         -1   \n2     ...                 -1                         -1   \n3     ...   Company - Public  Biotech & Pharmaceuticals   \n4     ...                 -1                         -1   \n...   ...                ...                        ...   \n1002  ...                 -1                         -1   \n1138  ...                 -1                         -1   \n1210  ...                 -1                         -1   \n1211  ...                 -1                         -1   \n1269  ...                 -1                         -1   \n\n                              Sector             Revenue Career Opportunities  \\\n0                                 -1                  -1                 -1.0   \n1                                 -1                  -1                  4.3   \n2                                 -1                  -1                 -1.0   \n3     Pharmaceutical & Biotechnology  $10+ billion (USD)                  3.7   \n4                                 -1                  -1                  5.0   \n...                              ...                 ...                  ...   \n1002                              -1                  -1                  2.7   \n1138                              -1                  -1                 -1.0   \n1210                              -1                  -1                 -1.0   \n1211                              -1                  -1                  3.7   \n1269                              -1                  -1                 -1.0   \n\n     Comp & Benefits Culture & Values  Senior Management  Work Life Balance  \\\n0               -1.0             -1.0               -1.0               -1.0   \n1                4.0              4.8                4.8                4.5   \n2               -1.0             -1.0               -1.0               -1.0   \n3                4.0              4.0                3.6                3.9   \n4                5.0              5.0                5.0                5.0   \n...              ...              ...                ...                ...   \n1002             2.5              3.1                2.6                3.1   \n1138            -1.0             -1.0               -1.0               -1.0   \n1210            -1.0             -1.0               -1.0               -1.0   \n1211             3.8              3.8                3.4                4.1   \n1269            -1.0             -1.0               -1.0               -1.0   \n\n      Time Unit  \n0            hr  \n1            hr  \n2            hr  \n3            yr  \n4            yr  \n...         ...  \n1002         yr  \n1138         yr  \n1210         yr  \n1211         yr  \n1269         hr  \n\n[182 rows x 23 columns]",
      "text/html": "<div>\n<style scoped>\n    .dataframe tbody tr th:only-of-type {\n        vertical-align: middle;\n    }\n\n    .dataframe tbody tr th {\n        vertical-align: top;\n    }\n\n    .dataframe thead th {\n        text-align: right;\n    }\n</style>\n<table border=\"1\" class=\"dataframe\">\n  <thead>\n    <tr style=\"text-align: right;\">\n      <th></th>\n      <th>Salary Estimate</th>\n      <th>Annual Salary</th>\n      <th>Job Title</th>\n      <th>Experience</th>\n      <th>Education</th>\n      <th>Position</th>\n      <th>Company Name</th>\n      <th>Location</th>\n      <th>Rating</th>\n      <th>Is Remote</th>\n      <th>...</th>\n      <th>Type of Ownership</th>\n      <th>Industry</th>\n      <th>Sector</th>\n      <th>Revenue</th>\n      <th>Career Opportunities</th>\n      <th>Comp &amp; Benefits</th>\n      <th>Culture &amp; Values</th>\n      <th>Senior Management</th>\n      <th>Work Life Balance</th>\n      <th>Time Unit</th>\n    </tr>\n  </thead>\n  <tbody>\n    <tr>\n      <th>0</th>\n      <td>$52.50 /hr (est.)</td>\n      <td>109200.0</td>\n      <td>QA Test Engineer</td>\n      <td>0</td>\n      <td>1</td>\n      <td>-1</td>\n      <td>Kanini</td>\n      <td>Remote</td>\n      <td>-1.0</td>\n      <td>1</td>\n      <td>...</td>\n      <td>-1</td>\n      <td>-1</td>\n      <td>-1</td>\n      <td>-1</td>\n      <td>-1.0</td>\n      <td>-1.0</td>\n      <td>-1.0</td>\n      <td>-1.0</td>\n      <td>-1.0</td>\n      <td>hr</td>\n    </tr>\n    <tr>\n      <th>1</th>\n      <td>$55.00 /hr (est.)</td>\n      <td>114400.0</td>\n      <td>UAT Tester</td>\n      <td>8</td>\n      <td>1</td>\n      <td>-1</td>\n      <td>Cloud and Things Inc\\n4.6</td>\n      <td>Remote</td>\n      <td>4.6</td>\n      <td>1</td>\n      <td>...</td>\n      <td>-1</td>\n      <td>-1</td>\n      <td>-1</td>\n      <td>-1</td>\n      <td>4.3</td>\n      <td>4.0</td>\n      <td>4.8</td>\n      <td>4.8</td>\n      <td>4.5</td>\n      <td>hr</td>\n    </tr>\n    <tr>\n      <th>2</th>\n      <td>$75.00 /hr (est.)</td>\n      <td>156000.0</td>\n      <td>Senior Manual QA Tester</td>\n      <td>-1</td>\n      <td>-1</td>\n      <td>-1</td>\n      <td>Match Made Tech</td>\n      <td>Irvine, CA</td>\n      <td>-1.0</td>\n      <td>0</td>\n      <td>...</td>\n      <td>-1</td>\n      <td>-1</td>\n      <td>-1</td>\n      <td>-1</td>\n      <td>-1.0</td>\n      <td>-1.0</td>\n      <td>-1.0</td>\n      <td>-1.0</td>\n      <td>-1.0</td>\n      <td>hr</td>\n    </tr>\n    <tr>\n      <th>3</th>\n      <td>$112,168 /yr (est.)</td>\n      <td>112168.0</td>\n      <td>Specialist QA (Remote)</td>\n      <td>10</td>\n      <td>1</td>\n      <td>0</td>\n      <td>Amgen\\n4.2</td>\n      <td>Thousand Oaks, CA</td>\n      <td>4.2</td>\n      <td>0</td>\n      <td>...</td>\n      <td>Company - Public</td>\n      <td>Biotech &amp; Pharmaceuticals</td>\n      <td>Pharmaceutical &amp; Biotechnology</td>\n      <td>$10+ billion (USD)</td>\n      <td>3.7</td>\n      <td>4.0</td>\n      <td>4.0</td>\n      <td>3.6</td>\n      <td>3.9</td>\n      <td>yr</td>\n    </tr>\n    <tr>\n      <th>4</th>\n      <td>$98,320 /yr (est.)</td>\n      <td>98320.0</td>\n      <td>Software QA Test &amp; Release Engineer</td>\n      <td>4</td>\n      <td>1</td>\n      <td>-1</td>\n      <td>Synaty Tech\\n5.0</td>\n      <td>Colorado Springs, CO</td>\n      <td>5.0</td>\n      <td>0</td>\n      <td>...</td>\n      <td>-1</td>\n      <td>-1</td>\n      <td>-1</td>\n      <td>-1</td>\n      <td>5.0</td>\n      <td>5.0</td>\n      <td>5.0</td>\n      <td>5.0</td>\n      <td>5.0</td>\n      <td>yr</td>\n    </tr>\n    <tr>\n      <th>...</th>\n      <td>...</td>\n      <td>...</td>\n      <td>...</td>\n      <td>...</td>\n      <td>...</td>\n      <td>...</td>\n      <td>...</td>\n      <td>...</td>\n      <td>...</td>\n      <td>...</td>\n      <td>...</td>\n      <td>...</td>\n      <td>...</td>\n      <td>...</td>\n      <td>...</td>\n      <td>...</td>\n      <td>...</td>\n      <td>...</td>\n      <td>...</td>\n      <td>...</td>\n      <td>...</td>\n    </tr>\n    <tr>\n      <th>1002</th>\n      <td>$54,861 /yr (est.)</td>\n      <td>54861.0</td>\n      <td>Specialist QA</td>\n      <td>10</td>\n      <td>1</td>\n      <td>0</td>\n      <td>PACIV\\n3.3</td>\n      <td>San Juan, PR</td>\n      <td>3.3</td>\n      <td>0</td>\n      <td>...</td>\n      <td>-1</td>\n      <td>-1</td>\n      <td>-1</td>\n      <td>-1</td>\n      <td>2.7</td>\n      <td>2.5</td>\n      <td>3.1</td>\n      <td>2.6</td>\n      <td>3.1</td>\n      <td>yr</td>\n    </tr>\n    <tr>\n      <th>1138</th>\n      <td>$72,225 /yr (est.)</td>\n      <td>72225.0</td>\n      <td>Quality Assurance Analyst (QA Analyst)</td>\n      <td>0</td>\n      <td>2</td>\n      <td>-1</td>\n      <td>Essani International</td>\n      <td>South Elgin, IL</td>\n      <td>-1.0</td>\n      <td>0</td>\n      <td>...</td>\n      <td>-1</td>\n      <td>-1</td>\n      <td>-1</td>\n      <td>-1</td>\n      <td>-1.0</td>\n      <td>-1.0</td>\n      <td>-1.0</td>\n      <td>-1.0</td>\n      <td>-1.0</td>\n      <td>yr</td>\n    </tr>\n    <tr>\n      <th>1210</th>\n      <td>$77,640 /yr (est.)</td>\n      <td>77640.0</td>\n      <td>QA Analyst</td>\n      <td>0</td>\n      <td>1</td>\n      <td>-1</td>\n      <td>Mayura</td>\n      <td>Woodbridge, NJ</td>\n      <td>-1.0</td>\n      <td>0</td>\n      <td>...</td>\n      <td>-1</td>\n      <td>-1</td>\n      <td>-1</td>\n      <td>-1</td>\n      <td>-1.0</td>\n      <td>-1.0</td>\n      <td>-1.0</td>\n      <td>-1.0</td>\n      <td>-1.0</td>\n      <td>yr</td>\n    </tr>\n    <tr>\n      <th>1211</th>\n      <td>$65,000 /yr (est.)</td>\n      <td>65000.0</td>\n      <td>QA Analyst</td>\n      <td>0</td>\n      <td>1</td>\n      <td>1</td>\n      <td>Baldwin Risk Partners\\n3.8</td>\n      <td>New York, NY</td>\n      <td>3.8</td>\n      <td>0</td>\n      <td>...</td>\n      <td>-1</td>\n      <td>-1</td>\n      <td>-1</td>\n      <td>-1</td>\n      <td>3.7</td>\n      <td>3.8</td>\n      <td>3.8</td>\n      <td>3.4</td>\n      <td>4.1</td>\n      <td>yr</td>\n    </tr>\n    <tr>\n      <th>1269</th>\n      <td>$55.00 /hr (est.)</td>\n      <td>114400.0</td>\n      <td>QA Mobile Analyst</td>\n      <td>5</td>\n      <td>2</td>\n      <td>1</td>\n      <td>IT Engagements,Inc.</td>\n      <td>Denver, CO</td>\n      <td>-1.0</td>\n      <td>0</td>\n      <td>...</td>\n      <td>-1</td>\n      <td>-1</td>\n      <td>-1</td>\n      <td>-1</td>\n      <td>-1.0</td>\n      <td>-1.0</td>\n      <td>-1.0</td>\n      <td>-1.0</td>\n      <td>-1.0</td>\n      <td>hr</td>\n    </tr>\n  </tbody>\n</table>\n<p>182 rows × 23 columns</p>\n</div>"
     },
     "execution_count": 47,
     "metadata": {},
     "output_type": "execute_result"
    }
   ],
   "source": [
    "df"
   ],
   "metadata": {
    "collapsed": false,
    "ExecuteTime": {
     "start_time": "2023-05-20T20:57:26.512910Z",
     "end_time": "2023-05-20T20:57:26.541267Z"
    }
   }
  },
  {
   "cell_type": "code",
   "execution_count": null,
   "outputs": [],
   "source": [],
   "metadata": {
    "collapsed": false
   }
  }
 ],
 "metadata": {
  "kernelspec": {
   "display_name": "Python 3",
   "language": "python",
   "name": "python3"
  },
  "language_info": {
   "codemirror_mode": {
    "name": "ipython",
    "version": 2
   },
   "file_extension": ".py",
   "mimetype": "text/x-python",
   "name": "python",
   "nbconvert_exporter": "python",
   "pygments_lexer": "ipython2",
   "version": "2.7.6"
  }
 },
 "nbformat": 4,
 "nbformat_minor": 0
}
