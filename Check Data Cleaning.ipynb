{
 "cells": [
  {
   "cell_type": "code",
   "execution_count": 25,
   "metadata": {
    "collapsed": true,
    "ExecuteTime": {
     "start_time": "2023-05-13T15:00:07.883540Z",
     "end_time": "2023-05-13T15:00:07.899523Z"
    }
   },
   "outputs": [],
   "source": [
    "import pandas as pd"
   ]
  },
  {
   "cell_type": "markdown",
   "source": [
    "### Start the cleaning process\n",
    "- The **'raw data'** represents all the data that was scraped from the 'Glassdoor' website.\n",
    "- The **'clean data'** represents data without duplicates and without unnecessary columns that were used for debugging purposes.\n",
    "- The **'final data'** represents the database with no missing values in the crucial columns (Annual Salary, Experience, Education)."
   ],
   "metadata": {
    "collapsed": false
   }
  },
  {
   "cell_type": "code",
   "execution_count": 27,
   "outputs": [
    {
     "data": {
      "text/plain": "(986, 16)"
     },
     "execution_count": 27,
     "metadata": {},
     "output_type": "execute_result"
    }
   ],
   "source": [
    "df = pd.read_csv(\"final data/software developer5000finalSahar.csv\")\n",
    "df.shape"
   ],
   "metadata": {
    "collapsed": false,
    "ExecuteTime": {
     "start_time": "2023-05-13T15:00:45.846257Z",
     "end_time": "2023-05-13T15:00:45.892353Z"
    }
   }
  },
  {
   "cell_type": "code",
   "execution_count": 28,
   "outputs": [
    {
     "data": {
      "text/plain": "(986, 15)"
     },
     "execution_count": 28,
     "metadata": {},
     "output_type": "execute_result"
    }
   ],
   "source": [
    "df = df.loc[:, ~df.columns.str.contains('^Unnamed')]\n",
    "df.shape"
   ],
   "metadata": {
    "collapsed": false,
    "ExecuteTime": {
     "start_time": "2023-05-13T15:01:08.100430Z",
     "end_time": "2023-05-13T15:01:08.146070Z"
    }
   }
  },
  {
   "cell_type": "code",
   "execution_count": 30,
   "outputs": [
    {
     "data": {
      "text/plain": "840"
     },
     "execution_count": 30,
     "metadata": {},
     "output_type": "execute_result"
    }
   ],
   "source": [
    "df.duplicated().sum()"
   ],
   "metadata": {
    "collapsed": false,
    "ExecuteTime": {
     "start_time": "2023-05-13T15:01:49.958490Z",
     "end_time": "2023-05-13T15:01:50.008693Z"
    }
   }
  },
  {
   "cell_type": "code",
   "execution_count": 31,
   "outputs": [
    {
     "data": {
      "text/plain": "(146, 15)"
     },
     "execution_count": 31,
     "metadata": {},
     "output_type": "execute_result"
    }
   ],
   "source": [
    "df.drop_duplicates(keep='first', inplace=True)\n",
    "df.shape"
   ],
   "metadata": {
    "collapsed": false,
    "ExecuteTime": {
     "start_time": "2023-05-13T15:02:30.032028Z",
     "end_time": "2023-05-13T15:02:30.089048Z"
    }
   }
  },
  {
   "cell_type": "code",
   "execution_count": 32,
   "outputs": [
    {
     "data": {
      "text/plain": "                                             Job Title  Annual Salary  \\\n0                                   Software Developer       124800.0   \n1                   Junior Software Developer (Remote)        68078.0   \n2              Software Developer - JAVA (#0000101540)       142480.0   \n3                            Java Full Stack Developer       129001.6   \n4                                  Terraform developer       156000.0   \n..                                                 ...            ...   \n721                                 React JS Developer       109200.0   \n752  Sr. Full Stack Java Angular Developer (BHJOB22...        77114.0   \n889                                     Java Developer       130000.0   \n937                               Software Developer I        76301.0   \n959                         Senior Java/J2EE Developer       116480.0   \n\n     Experience Education Position  Is Remote  Company Size Scale  \\\n0             2  BACHELOR       -1          1                   2   \n1             1  BACHELOR   JUNIOR          1                  -1   \n2             5  BACHELOR   JUNIOR          0                   5   \n3            -1  BACHELOR       -1          1                   1   \n4             5    MASTER       -1          0                  -1   \n..          ...       ...      ...        ...                 ...   \n721           9    MASTER       -1          0                   2   \n752           5  BACHELOR   SENIOR          0                   1   \n889           1  BACHELOR       -1          0                   5   \n937          -1  BACHELOR       -1          0                   3   \n959          12    MASTER   SENIOR          0                  -1   \n\n     Company Old  Revenue Scale  Rating  Career Opportunities  \\\n0             -1              4     3.8                   3.3   \n1             -1             -1    -1.0                  -1.0   \n2             24              6     3.5                   3.5   \n3             -1             -1    -1.0                  -1.0   \n4             -1             -1    -1.0                  -1.0   \n..           ...            ...     ...                   ...   \n721           -1             -1     5.0                   5.0   \n752           13              2     4.5                   4.0   \n889           -1             -1     4.5                   4.5   \n937           46             -1     3.3                   3.1   \n959           -1             -1    -1.0                  -1.0   \n\n     Comp & Benefits  Culture & Values  Senior Management  Work Life Balance  \n0                2.6               3.1                3.3                3.8  \n1               -1.0              -1.0               -1.0               -1.0  \n2                3.2               3.4                3.2                3.5  \n3               -1.0              -1.0               -1.0               -1.0  \n4               -1.0              -1.0               -1.0               -1.0  \n..               ...               ...                ...                ...  \n721              5.0               5.0                5.0                5.0  \n752              4.2               4.3                4.3                4.3  \n889              4.2               4.5                4.3                4.3  \n937              3.8               3.0                3.1                3.2  \n959             -1.0              -1.0               -1.0               -1.0  \n\n[146 rows x 15 columns]",
      "text/html": "<div>\n<style scoped>\n    .dataframe tbody tr th:only-of-type {\n        vertical-align: middle;\n    }\n\n    .dataframe tbody tr th {\n        vertical-align: top;\n    }\n\n    .dataframe thead th {\n        text-align: right;\n    }\n</style>\n<table border=\"1\" class=\"dataframe\">\n  <thead>\n    <tr style=\"text-align: right;\">\n      <th></th>\n      <th>Job Title</th>\n      <th>Annual Salary</th>\n      <th>Experience</th>\n      <th>Education</th>\n      <th>Position</th>\n      <th>Is Remote</th>\n      <th>Company Size Scale</th>\n      <th>Company Old</th>\n      <th>Revenue Scale</th>\n      <th>Rating</th>\n      <th>Career Opportunities</th>\n      <th>Comp &amp; Benefits</th>\n      <th>Culture &amp; Values</th>\n      <th>Senior Management</th>\n      <th>Work Life Balance</th>\n    </tr>\n  </thead>\n  <tbody>\n    <tr>\n      <th>0</th>\n      <td>Software Developer</td>\n      <td>124800.0</td>\n      <td>2</td>\n      <td>BACHELOR</td>\n      <td>-1</td>\n      <td>1</td>\n      <td>2</td>\n      <td>-1</td>\n      <td>4</td>\n      <td>3.8</td>\n      <td>3.3</td>\n      <td>2.6</td>\n      <td>3.1</td>\n      <td>3.3</td>\n      <td>3.8</td>\n    </tr>\n    <tr>\n      <th>1</th>\n      <td>Junior Software Developer (Remote)</td>\n      <td>68078.0</td>\n      <td>1</td>\n      <td>BACHELOR</td>\n      <td>JUNIOR</td>\n      <td>1</td>\n      <td>-1</td>\n      <td>-1</td>\n      <td>-1</td>\n      <td>-1.0</td>\n      <td>-1.0</td>\n      <td>-1.0</td>\n      <td>-1.0</td>\n      <td>-1.0</td>\n      <td>-1.0</td>\n    </tr>\n    <tr>\n      <th>2</th>\n      <td>Software Developer - JAVA (#0000101540)</td>\n      <td>142480.0</td>\n      <td>5</td>\n      <td>BACHELOR</td>\n      <td>JUNIOR</td>\n      <td>0</td>\n      <td>5</td>\n      <td>24</td>\n      <td>6</td>\n      <td>3.5</td>\n      <td>3.5</td>\n      <td>3.2</td>\n      <td>3.4</td>\n      <td>3.2</td>\n      <td>3.5</td>\n    </tr>\n    <tr>\n      <th>3</th>\n      <td>Java Full Stack Developer</td>\n      <td>129001.6</td>\n      <td>-1</td>\n      <td>BACHELOR</td>\n      <td>-1</td>\n      <td>1</td>\n      <td>1</td>\n      <td>-1</td>\n      <td>-1</td>\n      <td>-1.0</td>\n      <td>-1.0</td>\n      <td>-1.0</td>\n      <td>-1.0</td>\n      <td>-1.0</td>\n      <td>-1.0</td>\n    </tr>\n    <tr>\n      <th>4</th>\n      <td>Terraform developer</td>\n      <td>156000.0</td>\n      <td>5</td>\n      <td>MASTER</td>\n      <td>-1</td>\n      <td>0</td>\n      <td>-1</td>\n      <td>-1</td>\n      <td>-1</td>\n      <td>-1.0</td>\n      <td>-1.0</td>\n      <td>-1.0</td>\n      <td>-1.0</td>\n      <td>-1.0</td>\n      <td>-1.0</td>\n    </tr>\n    <tr>\n      <th>...</th>\n      <td>...</td>\n      <td>...</td>\n      <td>...</td>\n      <td>...</td>\n      <td>...</td>\n      <td>...</td>\n      <td>...</td>\n      <td>...</td>\n      <td>...</td>\n      <td>...</td>\n      <td>...</td>\n      <td>...</td>\n      <td>...</td>\n      <td>...</td>\n      <td>...</td>\n    </tr>\n    <tr>\n      <th>721</th>\n      <td>React JS Developer</td>\n      <td>109200.0</td>\n      <td>9</td>\n      <td>MASTER</td>\n      <td>-1</td>\n      <td>0</td>\n      <td>2</td>\n      <td>-1</td>\n      <td>-1</td>\n      <td>5.0</td>\n      <td>5.0</td>\n      <td>5.0</td>\n      <td>5.0</td>\n      <td>5.0</td>\n      <td>5.0</td>\n    </tr>\n    <tr>\n      <th>752</th>\n      <td>Sr. Full Stack Java Angular Developer (BHJOB22...</td>\n      <td>77114.0</td>\n      <td>5</td>\n      <td>BACHELOR</td>\n      <td>SENIOR</td>\n      <td>0</td>\n      <td>1</td>\n      <td>13</td>\n      <td>2</td>\n      <td>4.5</td>\n      <td>4.0</td>\n      <td>4.2</td>\n      <td>4.3</td>\n      <td>4.3</td>\n      <td>4.3</td>\n    </tr>\n    <tr>\n      <th>889</th>\n      <td>Java Developer</td>\n      <td>130000.0</td>\n      <td>1</td>\n      <td>BACHELOR</td>\n      <td>-1</td>\n      <td>0</td>\n      <td>5</td>\n      <td>-1</td>\n      <td>-1</td>\n      <td>4.5</td>\n      <td>4.5</td>\n      <td>4.2</td>\n      <td>4.5</td>\n      <td>4.3</td>\n      <td>4.3</td>\n    </tr>\n    <tr>\n      <th>937</th>\n      <td>Software Developer I</td>\n      <td>76301.0</td>\n      <td>-1</td>\n      <td>BACHELOR</td>\n      <td>-1</td>\n      <td>0</td>\n      <td>3</td>\n      <td>46</td>\n      <td>-1</td>\n      <td>3.3</td>\n      <td>3.1</td>\n      <td>3.8</td>\n      <td>3.0</td>\n      <td>3.1</td>\n      <td>3.2</td>\n    </tr>\n    <tr>\n      <th>959</th>\n      <td>Senior Java/J2EE Developer</td>\n      <td>116480.0</td>\n      <td>12</td>\n      <td>MASTER</td>\n      <td>SENIOR</td>\n      <td>0</td>\n      <td>-1</td>\n      <td>-1</td>\n      <td>-1</td>\n      <td>-1.0</td>\n      <td>-1.0</td>\n      <td>-1.0</td>\n      <td>-1.0</td>\n      <td>-1.0</td>\n      <td>-1.0</td>\n    </tr>\n  </tbody>\n</table>\n<p>146 rows × 15 columns</p>\n</div>"
     },
     "execution_count": 32,
     "metadata": {},
     "output_type": "execute_result"
    }
   ],
   "source": [
    "df.head(146)"
   ],
   "metadata": {
    "collapsed": false,
    "ExecuteTime": {
     "start_time": "2023-05-13T15:02:42.918466Z",
     "end_time": "2023-05-13T15:02:42.968651Z"
    }
   }
  },
  {
   "cell_type": "code",
   "execution_count": null,
   "outputs": [],
   "source": [
    "df = pd.read_csv(\"software developer final data 10000.csv\")\n",
    "df.duplicated().sum()"
   ],
   "metadata": {
    "collapsed": false,
    "ExecuteTime": {
     "start_time": "2023-05-13T14:28:06.399355Z",
     "end_time": "2023-05-13T14:28:06.477463Z"
    }
   }
  },
  {
   "cell_type": "code",
   "execution_count": null,
   "outputs": [],
   "source": [
    "df = pd.read_csv(\"web developer200_clean.csv\")\n",
    "df.duplicated().sum()"
   ],
   "metadata": {
    "collapsed": false,
    "ExecuteTime": {
     "start_time": "2023-05-13T14:28:07.073418Z",
     "end_time": "2023-05-13T14:28:07.151524Z"
    }
   }
  },
  {
   "cell_type": "code",
   "execution_count": null,
   "outputs": [],
   "source": [
    "df.shape\n"
   ],
   "metadata": {
    "collapsed": false,
    "ExecuteTime": {
     "start_time": "2023-05-13T14:28:07.537491Z",
     "end_time": "2023-05-13T14:28:07.631251Z"
    }
   }
  },
  {
   "cell_type": "markdown",
   "source": [
    "# Delete the 'anonymous' column\n",
    "## And now count the duplications"
   ],
   "metadata": {
    "collapsed": false
   }
  },
  {
   "cell_type": "code",
   "execution_count": null,
   "outputs": [],
   "source": [
    "df = pd.read_csv(\"software developer final data 10000.csv\")\n",
    "df.head(4)"
   ],
   "metadata": {
    "collapsed": false,
    "ExecuteTime": {
     "start_time": "2023-05-13T14:28:08.679395Z",
     "end_time": "2023-05-13T14:28:08.726259Z"
    }
   }
  },
  {
   "cell_type": "code",
   "execution_count": null,
   "outputs": [],
   "source": [
    "df = df.loc[:, ~df.columns.str.contains('^Unnamed')]\n",
    "df.head(4)"
   ],
   "metadata": {
    "collapsed": false,
    "ExecuteTime": {
     "start_time": "2023-05-13T14:28:09.309909Z",
     "end_time": "2023-05-13T14:28:09.388017Z"
    }
   }
  },
  {
   "cell_type": "code",
   "execution_count": null,
   "outputs": [],
   "source": [
    "df.duplicated().sum()"
   ],
   "metadata": {
    "collapsed": false,
    "ExecuteTime": {
     "start_time": "2023-05-13T14:28:09.894516Z",
     "end_time": "2023-05-13T14:28:10.003864Z"
    }
   }
  },
  {
   "cell_type": "code",
   "execution_count": null,
   "outputs": [],
   "source": [
    "df.shape"
   ],
   "metadata": {
    "collapsed": false,
    "ExecuteTime": {
     "start_time": "2023-05-13T14:28:10.538214Z",
     "end_time": "2023-05-13T14:28:10.565995Z"
    }
   }
  },
  {
   "cell_type": "code",
   "execution_count": null,
   "outputs": [],
   "source": [
    "df.drop_duplicates(keep='first', inplace=True)\n",
    "df.shape"
   ],
   "metadata": {
    "collapsed": false,
    "ExecuteTime": {
     "start_time": "2023-05-13T14:28:11.042135Z",
     "end_time": "2023-05-13T14:28:11.100084Z"
    }
   }
  },
  {
   "cell_type": "markdown",
   "source": [
    "## Now try the other file"
   ],
   "metadata": {
    "collapsed": false
   }
  },
  {
   "cell_type": "code",
   "execution_count": null,
   "outputs": [],
   "source": [
    "df = pd.read_csv(\"web developer200_clean.csv\")\n",
    "df.head(5)\n",
    "\n"
   ],
   "metadata": {
    "collapsed": false,
    "ExecuteTime": {
     "start_time": "2023-05-13T14:28:12.116796Z",
     "end_time": "2023-05-13T14:28:12.163675Z"
    }
   }
  },
  {
   "cell_type": "code",
   "execution_count": null,
   "outputs": [],
   "source": [
    "df = df.loc[:, ~df.columns.str.contains('^Unnamed')]"
   ],
   "metadata": {
    "collapsed": false,
    "ExecuteTime": {
     "start_time": "2023-05-13T14:28:12.662210Z",
     "end_time": "2023-05-13T14:28:12.693474Z"
    }
   }
  },
  {
   "cell_type": "code",
   "execution_count": null,
   "outputs": [],
   "source": [
    "df.duplicated().sum()"
   ],
   "metadata": {
    "collapsed": false,
    "ExecuteTime": {
     "start_time": "2023-05-13T14:28:13.210082Z",
     "end_time": "2023-05-13T14:28:13.256913Z"
    }
   }
  },
  {
   "cell_type": "code",
   "execution_count": null,
   "outputs": [],
   "source": [
    "df = pd.read_csv(\"final data/data base 1.csv\")\n"
   ],
   "metadata": {
    "collapsed": false,
    "ExecuteTime": {
     "start_time": "2023-05-13T14:33:55.370313Z",
     "end_time": "2023-05-13T14:33:55.448427Z"
    }
   }
  },
  {
   "cell_type": "code",
   "execution_count": null,
   "outputs": [],
   "source": [
    "df = df.loc[:, ~df.columns.str.contains('^Unnamed')]\n",
    "df.duplicated().sum()"
   ],
   "metadata": {
    "collapsed": false,
    "ExecuteTime": {
     "start_time": "2023-05-13T14:34:15.041105Z",
     "end_time": "2023-05-13T14:34:15.072491Z"
    }
   }
  },
  {
   "cell_type": "code",
   "execution_count": null,
   "outputs": [],
   "source": [
    "df.shape"
   ],
   "metadata": {
    "collapsed": false,
    "ExecuteTime": {
     "start_time": "2023-05-13T14:35:33.486618Z",
     "end_time": "2023-05-13T14:35:33.595977Z"
    }
   }
  },
  {
   "cell_type": "code",
   "execution_count": null,
   "outputs": [],
   "source": [],
   "metadata": {
    "collapsed": false
   }
  }
 ],
 "metadata": {
  "kernelspec": {
   "display_name": "Python 3",
   "language": "python",
   "name": "python3"
  },
  "language_info": {
   "codemirror_mode": {
    "name": "ipython",
    "version": 2
   },
   "file_extension": ".py",
   "mimetype": "text/x-python",
   "name": "python",
   "nbconvert_exporter": "python",
   "pygments_lexer": "ipython2",
   "version": "2.7.6"
  }
 },
 "nbformat": 4,
 "nbformat_minor": 0
}
