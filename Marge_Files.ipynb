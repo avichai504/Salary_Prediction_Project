{
 "cells": [
  {
   "cell_type": "code",
   "execution_count": 1,
   "outputs": [],
   "source": [
    "import pandas as pd\n",
    "import numpy as np\n",
    "import matplotlib.pyplot as plt\n",
    "import seaborn as sb\n",
    "from pylab import rcParams\n",
    "import scipy\n",
    "\n",
    "import Data_Cleaning\n",
    "\n"
   ],
   "metadata": {
    "collapsed": false,
    "ExecuteTime": {
     "start_time": "2023-06-03T12:39:23.378988Z",
     "end_time": "2023-06-03T12:39:23.681975Z"
    }
   }
  },
  {
   "cell_type": "markdown",
   "source": [
    "# The ***GOALS*** of this script:\n",
    "## Dealing with each csv file alone:\n",
    "- Removing unnecessary columns (such as 'Time of Scrape...)\n",
    "- Removing all duplication\n",
    "- Adding 'Scale' columns for each non-numeric variable with a **ratio order**\n",
    "- Filling the missing values with the mean of each column\n",
    "## Mixing all files into one big DataBase:\n",
    "- Adding column named **'Origin'** to track the origin of each file and marge all files into one big DataBase\n",
    "- Removing all duplication that has accrued from margin files\n",
    "- counting the total number of data we have and go out to drink a bear :)"
   ],
   "metadata": {
    "collapsed": false
   }
  },
  {
   "cell_type": "code",
   "execution_count": 2,
   "outputs": [
    {
     "name": "stdout",
     "output_type": "stream",
     "text": [
      "Before dropping duplicates: (13065, 23)\n",
      "After dropping all duplicates: (3892, 23)\n"
     ]
    }
   ],
   "source": [
    "name_of_job = 'QA'\n",
    "path_to_folder = f\"data files/{name_of_job}/raw data\"\n",
    "df_QA = Data_Cleaning.merge_csv_files_in_folder(path_to_folder)\n"
   ],
   "metadata": {
    "collapsed": false,
    "ExecuteTime": {
     "start_time": "2023-06-03T12:39:25.128383Z",
     "end_time": "2023-06-03T12:39:25.667606Z"
    }
   }
  },
  {
   "cell_type": "code",
   "execution_count": 3,
   "outputs": [
    {
     "name": "stdout",
     "output_type": "stream",
     "text": [
      "Before dropping duplicates: (3865, 23)\n",
      "After dropping all duplicates: (1103, 23)\n"
     ]
    }
   ],
   "source": [
    "name_of_job = 'software engineer'\n",
    "path_to_folder = f\"data files/{name_of_job}/raw data\"\n",
    "df_SE = Data_Cleaning.merge_csv_files_in_folder(path_to_folder)\n"
   ],
   "metadata": {
    "collapsed": false,
    "ExecuteTime": {
     "start_time": "2023-06-03T12:39:26.170297Z",
     "end_time": "2023-06-03T12:39:26.294508Z"
    }
   }
  },
  {
   "cell_type": "code",
   "execution_count": 4,
   "outputs": [
    {
     "name": "stdout",
     "output_type": "stream",
     "text": [
      "Before dropping duplicates: (10364, 23)\n",
      "After dropping all duplicates: (5002, 23)\n"
     ]
    }
   ],
   "source": [
    "name_of_job = 'data scientist'\n",
    "path_to_folder = f\"data files/{name_of_job}/raw data\"\n",
    "df_DS = Data_Cleaning.merge_csv_files_in_folder(path_to_folder)\n"
   ],
   "metadata": {
    "collapsed": false,
    "ExecuteTime": {
     "start_time": "2023-06-03T12:39:26.981583Z",
     "end_time": "2023-06-03T12:39:27.645768Z"
    }
   }
  },
  {
   "cell_type": "code",
   "execution_count": 5,
   "outputs": [
    {
     "name": "stdout",
     "output_type": "stream",
     "text": [
      "Before dropping duplicates: (18049, 23)\n",
      "After dropping all duplicates: (4355, 23)\n"
     ]
    },
    {
     "data": {
      "text/plain": "Index(['Salary Estimate', 'Annual Salary', 'Job Title', 'Experience',\n       'Education', 'Position', 'Company Name', 'Location', 'Rating',\n       'Is Remote', 'Company Old', 'Company Size', 'Founded',\n       'Type of Ownership', 'Industry', 'Sector', 'Revenue',\n       'Career Opportunities', 'Comp & Benefits', 'Culture & Values',\n       'Senior Management', 'Work Life Balance', 'Time Unit'],\n      dtype='object')"
     },
     "execution_count": 5,
     "metadata": {},
     "output_type": "execute_result"
    }
   ],
   "source": [
    "name_of_job = 'game development'\n",
    "path_to_folder = f\"data files/{name_of_job}/raw data\"\n",
    "df_GD = Data_Cleaning.merge_csv_files_in_folder(path_to_folder)\n",
    "\n",
    "df_GD.columns"
   ],
   "metadata": {
    "collapsed": false,
    "ExecuteTime": {
     "start_time": "2023-06-03T12:39:29.132186Z",
     "end_time": "2023-06-03T12:39:29.721072Z"
    }
   }
  },
  {
   "cell_type": "code",
   "execution_count": 6,
   "outputs": [
    {
     "name": "stdout",
     "output_type": "stream",
     "text": [
      "Before dropping duplicates: (38943, 25)\n",
      "After dropping all duplicates: (12332, 25)\n"
     ]
    },
    {
     "data": {
      "text/plain": "Index(['Salary Estimate', 'Annual Salary', 'Job Title', 'Experience',\n       'Education', 'Position', 'Company Name', 'Location', 'Rating',\n       'Is Remote', 'Company Old', 'Company Size', 'Founded',\n       'Type of Ownership', 'Industry', 'Sector', 'Revenue',\n       'Career Opportunities', 'Comp & Benefits', 'Culture & Values',\n       'Senior Management', 'Work Life Balance', 'Time Unit',\n       'Scale_Company_Size', 'Scale_Revenue'],\n      dtype='object')"
     },
     "execution_count": 6,
     "metadata": {},
     "output_type": "execute_result"
    }
   ],
   "source": [
    "name_of_job = 'MARGE'\n",
    "path_to_folder = f\"data files/{name_of_job}\"\n",
    "df_MR = Data_Cleaning.merge_csv_files_in_folder(path_to_folder)\n",
    "df_MR.columns"
   ],
   "metadata": {
    "collapsed": false,
    "ExecuteTime": {
     "start_time": "2023-06-03T12:39:34.991730Z",
     "end_time": "2023-06-03T12:39:36.105291Z"
    }
   }
  },
  {
   "cell_type": "markdown",
   "source": [
    "### Preprocessing stage for each df_name:\n",
    "- Adding 'Scale' columns\n",
    "- Filling the missing values with 'mean' for each column\n",
    "- Adding 'one hot encoding' for specific columns ONLY after marge!"
   ],
   "metadata": {
    "collapsed": false
   }
  },
  {
   "cell_type": "code",
   "execution_count": 7,
   "outputs": [],
   "source": [
    "# Adding 'Scale' columns\n",
    "job_list = [df_GD, df_DS, df_SE, df_QA]\n",
    "list_location = ['Remote', 'United State', 'Michigan', 'Pennsylvania', 'Colorado']\n",
    "\n",
    "for job in job_list:\n",
    "    Data_Cleaning.preprocess_scaling(job)\n",
    "\n"
   ],
   "metadata": {
    "collapsed": false,
    "ExecuteTime": {
     "start_time": "2023-06-03T12:39:47.298874Z",
     "end_time": "2023-06-03T12:39:47.345801Z"
    }
   }
  },
  {
   "cell_type": "code",
   "execution_count": 13,
   "outputs": [],
   "source": [
    "# Filling the missing values with 'mean' for each column. And cleaning the location (agine, only if needed).\n",
    "for job in job_list:\n",
    "    Data_Cleaning.filling_missing_values(job)\n",
    "    job['Location'] = job['Location'].fillna('')\n",
    "    job['Location'] = job['Location'].apply(lambda x: x.split(',')[-1])\n",
    "    job['Location'] = job['Location'].apply(lambda x: x if len(x) < 4 or x in list_location else 'LA')\n",
    "    job['Location'] = job['Location'].apply(lambda x: x if x != '-1' else 'LA')\n",
    "# print(df_DS.Location.unique())\n",
    "# print(df_DS['Type of Ownership'].unique())\n",
    "# print(df_SE.columns)\n",
    "# df_GD.head()"
   ],
   "metadata": {
    "collapsed": false,
    "ExecuteTime": {
     "start_time": "2023-06-03T12:42:36.641679Z",
     "end_time": "2023-06-03T12:42:36.797975Z"
    }
   }
  },
  {
   "cell_type": "markdown",
   "source": [
    "# Margin the files into one DataBase"
   ],
   "metadata": {
    "collapsed": false
   }
  },
  {
   "cell_type": "code",
   "execution_count": 14,
   "outputs": [
    {
     "name": "stdout",
     "output_type": "stream",
     "text": [
      "shape before: (14352, 25)\n",
      "shape after: (13796, 25)\n"
     ]
    },
    {
     "data": {
      "text/plain": "     Salary Estimate  Annual Salary  \\\n0  $30.00 /hr (est.)        62400.0   \n1  $67.50 /hr (est.)       140400.0   \n2  $19.00 /hr (est.)        39520.0   \n3  $71.50 /hr (est.)       148720.0   \n4  $30.00 /hr (est.)        62400.0   \n\n                                           Job Title  Experience Education  \\\n0   Web Development Foundations (Complex) || Fresher         5.0         1   \n1                                     Cloud Engineer         5.0         2   \n2           Cyber Security and Cloud Computing Tutor         0.0         1   \n3                                    Cloud Architect         5.0         2   \n4  Scripting and Programming Foundations (Complex...         5.0         1   \n\n  Position                      Company Name Location    Rating Is Remote  \\\n0        1                Hurix Digital\\n3.2   Remote  3.200000         1   \n1       -1                          CloudXoo   Remote  3.915368         1   \n2       -1  Georgetown Learning Centers\\n4.2   Remote  4.200000         1   \n3       -1                          CloudXoo   Remote  3.915368         1   \n4        1                Hurix Digital\\n3.2   Remote  3.200000         1   \n\n   ...                  Sector                   Revenue Career Opportunities  \\\n0  ...  Information Technology  Unknown / Non-Applicable             3.200000   \n1  ...                      -1                        -1             3.738412   \n2  ...                      -1                        -1             3.600000   \n3  ...                      -1                        -1             3.738412   \n4  ...  Information Technology  Unknown / Non-Applicable             3.200000   \n\n  Comp & Benefits Culture & Values Senior Management Work Life Balance  \\\n0        3.000000         3.100000          3.000000          3.000000   \n1        3.774893         3.859764          3.574678          3.788948   \n2        3.500000         3.900000          3.700000          3.300000   \n3        3.774893         3.859764          3.574678          3.788948   \n4        3.000000         3.100000          3.000000          3.000000   \n\n   Time Unit  Scale_Company_Size  Scale_Revenue  \n0         hr            4.000000       7.140426  \n1         hr            4.799479       7.140426  \n2         hr            4.799479       7.140426  \n3         hr            4.799479       7.140426  \n4         hr            4.000000       7.140426  \n\n[5 rows x 25 columns]",
      "text/html": "<div>\n<style scoped>\n    .dataframe tbody tr th:only-of-type {\n        vertical-align: middle;\n    }\n\n    .dataframe tbody tr th {\n        vertical-align: top;\n    }\n\n    .dataframe thead th {\n        text-align: right;\n    }\n</style>\n<table border=\"1\" class=\"dataframe\">\n  <thead>\n    <tr style=\"text-align: right;\">\n      <th></th>\n      <th>Salary Estimate</th>\n      <th>Annual Salary</th>\n      <th>Job Title</th>\n      <th>Experience</th>\n      <th>Education</th>\n      <th>Position</th>\n      <th>Company Name</th>\n      <th>Location</th>\n      <th>Rating</th>\n      <th>Is Remote</th>\n      <th>...</th>\n      <th>Sector</th>\n      <th>Revenue</th>\n      <th>Career Opportunities</th>\n      <th>Comp &amp; Benefits</th>\n      <th>Culture &amp; Values</th>\n      <th>Senior Management</th>\n      <th>Work Life Balance</th>\n      <th>Time Unit</th>\n      <th>Scale_Company_Size</th>\n      <th>Scale_Revenue</th>\n    </tr>\n  </thead>\n  <tbody>\n    <tr>\n      <th>0</th>\n      <td>$30.00 /hr (est.)</td>\n      <td>62400.0</td>\n      <td>Web Development Foundations (Complex) || Fresher</td>\n      <td>5.0</td>\n      <td>1</td>\n      <td>1</td>\n      <td>Hurix Digital\\n3.2</td>\n      <td>Remote</td>\n      <td>3.200000</td>\n      <td>1</td>\n      <td>...</td>\n      <td>Information Technology</td>\n      <td>Unknown / Non-Applicable</td>\n      <td>3.200000</td>\n      <td>3.000000</td>\n      <td>3.100000</td>\n      <td>3.000000</td>\n      <td>3.000000</td>\n      <td>hr</td>\n      <td>4.000000</td>\n      <td>7.140426</td>\n    </tr>\n    <tr>\n      <th>1</th>\n      <td>$67.50 /hr (est.)</td>\n      <td>140400.0</td>\n      <td>Cloud Engineer</td>\n      <td>5.0</td>\n      <td>2</td>\n      <td>-1</td>\n      <td>CloudXoo</td>\n      <td>Remote</td>\n      <td>3.915368</td>\n      <td>1</td>\n      <td>...</td>\n      <td>-1</td>\n      <td>-1</td>\n      <td>3.738412</td>\n      <td>3.774893</td>\n      <td>3.859764</td>\n      <td>3.574678</td>\n      <td>3.788948</td>\n      <td>hr</td>\n      <td>4.799479</td>\n      <td>7.140426</td>\n    </tr>\n    <tr>\n      <th>2</th>\n      <td>$19.00 /hr (est.)</td>\n      <td>39520.0</td>\n      <td>Cyber Security and Cloud Computing Tutor</td>\n      <td>0.0</td>\n      <td>1</td>\n      <td>-1</td>\n      <td>Georgetown Learning Centers\\n4.2</td>\n      <td>Remote</td>\n      <td>4.200000</td>\n      <td>1</td>\n      <td>...</td>\n      <td>-1</td>\n      <td>-1</td>\n      <td>3.600000</td>\n      <td>3.500000</td>\n      <td>3.900000</td>\n      <td>3.700000</td>\n      <td>3.300000</td>\n      <td>hr</td>\n      <td>4.799479</td>\n      <td>7.140426</td>\n    </tr>\n    <tr>\n      <th>3</th>\n      <td>$71.50 /hr (est.)</td>\n      <td>148720.0</td>\n      <td>Cloud Architect</td>\n      <td>5.0</td>\n      <td>2</td>\n      <td>-1</td>\n      <td>CloudXoo</td>\n      <td>Remote</td>\n      <td>3.915368</td>\n      <td>1</td>\n      <td>...</td>\n      <td>-1</td>\n      <td>-1</td>\n      <td>3.738412</td>\n      <td>3.774893</td>\n      <td>3.859764</td>\n      <td>3.574678</td>\n      <td>3.788948</td>\n      <td>hr</td>\n      <td>4.799479</td>\n      <td>7.140426</td>\n    </tr>\n    <tr>\n      <th>4</th>\n      <td>$30.00 /hr (est.)</td>\n      <td>62400.0</td>\n      <td>Scripting and Programming Foundations (Complex...</td>\n      <td>5.0</td>\n      <td>1</td>\n      <td>1</td>\n      <td>Hurix Digital\\n3.2</td>\n      <td>Remote</td>\n      <td>3.200000</td>\n      <td>1</td>\n      <td>...</td>\n      <td>Information Technology</td>\n      <td>Unknown / Non-Applicable</td>\n      <td>3.200000</td>\n      <td>3.000000</td>\n      <td>3.100000</td>\n      <td>3.000000</td>\n      <td>3.000000</td>\n      <td>hr</td>\n      <td>4.000000</td>\n      <td>7.140426</td>\n    </tr>\n  </tbody>\n</table>\n<p>5 rows × 25 columns</p>\n</div>"
     },
     "execution_count": 14,
     "metadata": {},
     "output_type": "execute_result"
    }
   ],
   "source": [
    "\n",
    "jobs_to_connect = [df_SE, df_GD, df_QA, df_DS]\n",
    "jobs = pd.concat(jobs_to_connect)\n",
    "print(f\"shape before: {jobs.shape}\")\n",
    "jobs.drop_duplicates(keep='first', inplace=True)\n",
    "print(f\"shape after: {jobs.shape}\")\n",
    "jobs.head()"
   ],
   "metadata": {
    "collapsed": false,
    "ExecuteTime": {
     "start_time": "2023-06-03T12:42:37.897589Z",
     "end_time": "2023-06-03T12:42:38.036638Z"
    }
   }
  },
  {
   "cell_type": "code",
   "execution_count": 15,
   "outputs": [],
   "source": [],
   "metadata": {
    "collapsed": false,
    "ExecuteTime": {
     "start_time": "2023-06-03T12:42:41.180350Z",
     "end_time": "2023-06-03T12:42:41.211589Z"
    }
   }
  },
  {
   "cell_type": "code",
   "execution_count": 16,
   "outputs": [
    {
     "name": "stdout",
     "output_type": "stream",
     "text": [
      "(13796, 25)\n"
     ]
    },
    {
     "data": {
      "text/plain": "     Salary Estimate  Annual Salary  \\\n0  $30.00 /hr (est.)        62400.0   \n1  $67.50 /hr (est.)       140400.0   \n2  $19.00 /hr (est.)        39520.0   \n3  $71.50 /hr (est.)       148720.0   \n4  $30.00 /hr (est.)        62400.0   \n\n                                           Job Title  Experience Education  \\\n0   Web Development Foundations (Complex) || Fresher         5.0         1   \n1                                     Cloud Engineer         5.0         2   \n2           Cyber Security and Cloud Computing Tutor         0.0         1   \n3                                    Cloud Architect         5.0         2   \n4  Scripting and Programming Foundations (Complex...         5.0         1   \n\n  Position                      Company Name Location    Rating Is Remote  \\\n0        1                Hurix Digital\\n3.2   Remote  3.200000         1   \n1       -1                          CloudXoo   Remote  3.915368         1   \n2       -1  Georgetown Learning Centers\\n4.2   Remote  4.200000         1   \n3       -1                          CloudXoo   Remote  3.915368         1   \n4        1                Hurix Digital\\n3.2   Remote  3.200000         1   \n\n   ...                  Sector                   Revenue Career Opportunities  \\\n0  ...  Information Technology  Unknown / Non-Applicable             3.200000   \n1  ...                      -1                        -1             3.738412   \n2  ...                      -1                        -1             3.600000   \n3  ...                      -1                        -1             3.738412   \n4  ...  Information Technology  Unknown / Non-Applicable             3.200000   \n\n  Comp & Benefits Culture & Values Senior Management Work Life Balance  \\\n0        3.000000         3.100000          3.000000          3.000000   \n1        3.774893         3.859764          3.574678          3.788948   \n2        3.500000         3.900000          3.700000          3.300000   \n3        3.774893         3.859764          3.574678          3.788948   \n4        3.000000         3.100000          3.000000          3.000000   \n\n   Time Unit  Scale_Company_Size  Scale_Revenue  \n0         hr            4.000000       7.140426  \n1         hr            4.799479       7.140426  \n2         hr            4.799479       7.140426  \n3         hr            4.799479       7.140426  \n4         hr            4.000000       7.140426  \n\n[5 rows x 25 columns]",
      "text/html": "<div>\n<style scoped>\n    .dataframe tbody tr th:only-of-type {\n        vertical-align: middle;\n    }\n\n    .dataframe tbody tr th {\n        vertical-align: top;\n    }\n\n    .dataframe thead th {\n        text-align: right;\n    }\n</style>\n<table border=\"1\" class=\"dataframe\">\n  <thead>\n    <tr style=\"text-align: right;\">\n      <th></th>\n      <th>Salary Estimate</th>\n      <th>Annual Salary</th>\n      <th>Job Title</th>\n      <th>Experience</th>\n      <th>Education</th>\n      <th>Position</th>\n      <th>Company Name</th>\n      <th>Location</th>\n      <th>Rating</th>\n      <th>Is Remote</th>\n      <th>...</th>\n      <th>Sector</th>\n      <th>Revenue</th>\n      <th>Career Opportunities</th>\n      <th>Comp &amp; Benefits</th>\n      <th>Culture &amp; Values</th>\n      <th>Senior Management</th>\n      <th>Work Life Balance</th>\n      <th>Time Unit</th>\n      <th>Scale_Company_Size</th>\n      <th>Scale_Revenue</th>\n    </tr>\n  </thead>\n  <tbody>\n    <tr>\n      <th>0</th>\n      <td>$30.00 /hr (est.)</td>\n      <td>62400.0</td>\n      <td>Web Development Foundations (Complex) || Fresher</td>\n      <td>5.0</td>\n      <td>1</td>\n      <td>1</td>\n      <td>Hurix Digital\\n3.2</td>\n      <td>Remote</td>\n      <td>3.200000</td>\n      <td>1</td>\n      <td>...</td>\n      <td>Information Technology</td>\n      <td>Unknown / Non-Applicable</td>\n      <td>3.200000</td>\n      <td>3.000000</td>\n      <td>3.100000</td>\n      <td>3.000000</td>\n      <td>3.000000</td>\n      <td>hr</td>\n      <td>4.000000</td>\n      <td>7.140426</td>\n    </tr>\n    <tr>\n      <th>1</th>\n      <td>$67.50 /hr (est.)</td>\n      <td>140400.0</td>\n      <td>Cloud Engineer</td>\n      <td>5.0</td>\n      <td>2</td>\n      <td>-1</td>\n      <td>CloudXoo</td>\n      <td>Remote</td>\n      <td>3.915368</td>\n      <td>1</td>\n      <td>...</td>\n      <td>-1</td>\n      <td>-1</td>\n      <td>3.738412</td>\n      <td>3.774893</td>\n      <td>3.859764</td>\n      <td>3.574678</td>\n      <td>3.788948</td>\n      <td>hr</td>\n      <td>4.799479</td>\n      <td>7.140426</td>\n    </tr>\n    <tr>\n      <th>2</th>\n      <td>$19.00 /hr (est.)</td>\n      <td>39520.0</td>\n      <td>Cyber Security and Cloud Computing Tutor</td>\n      <td>0.0</td>\n      <td>1</td>\n      <td>-1</td>\n      <td>Georgetown Learning Centers\\n4.2</td>\n      <td>Remote</td>\n      <td>4.200000</td>\n      <td>1</td>\n      <td>...</td>\n      <td>-1</td>\n      <td>-1</td>\n      <td>3.600000</td>\n      <td>3.500000</td>\n      <td>3.900000</td>\n      <td>3.700000</td>\n      <td>3.300000</td>\n      <td>hr</td>\n      <td>4.799479</td>\n      <td>7.140426</td>\n    </tr>\n    <tr>\n      <th>3</th>\n      <td>$71.50 /hr (est.)</td>\n      <td>148720.0</td>\n      <td>Cloud Architect</td>\n      <td>5.0</td>\n      <td>2</td>\n      <td>-1</td>\n      <td>CloudXoo</td>\n      <td>Remote</td>\n      <td>3.915368</td>\n      <td>1</td>\n      <td>...</td>\n      <td>-1</td>\n      <td>-1</td>\n      <td>3.738412</td>\n      <td>3.774893</td>\n      <td>3.859764</td>\n      <td>3.574678</td>\n      <td>3.788948</td>\n      <td>hr</td>\n      <td>4.799479</td>\n      <td>7.140426</td>\n    </tr>\n    <tr>\n      <th>4</th>\n      <td>$30.00 /hr (est.)</td>\n      <td>62400.0</td>\n      <td>Scripting and Programming Foundations (Complex...</td>\n      <td>5.0</td>\n      <td>1</td>\n      <td>1</td>\n      <td>Hurix Digital\\n3.2</td>\n      <td>Remote</td>\n      <td>3.200000</td>\n      <td>1</td>\n      <td>...</td>\n      <td>Information Technology</td>\n      <td>Unknown / Non-Applicable</td>\n      <td>3.200000</td>\n      <td>3.000000</td>\n      <td>3.100000</td>\n      <td>3.000000</td>\n      <td>3.000000</td>\n      <td>hr</td>\n      <td>4.000000</td>\n      <td>7.140426</td>\n    </tr>\n  </tbody>\n</table>\n<p>5 rows × 25 columns</p>\n</div>"
     },
     "execution_count": 16,
     "metadata": {},
     "output_type": "execute_result"
    }
   ],
   "source": [
    "print(jobs.shape)\n",
    "jobs.head()"
   ],
   "metadata": {
    "collapsed": false,
    "ExecuteTime": {
     "start_time": "2023-06-03T12:42:42.007111Z",
     "end_time": "2023-06-03T12:42:42.053979Z"
    }
   }
  },
  {
   "cell_type": "code",
   "execution_count": 17,
   "outputs": [],
   "source": [
    "jobs.to_csv('DataBase_noEncoding_var1.csv', index=False)"
   ],
   "metadata": {
    "collapsed": false,
    "ExecuteTime": {
     "start_time": "2023-06-03T12:44:11.252939Z",
     "end_time": "2023-06-03T12:44:11.487437Z"
    }
   }
  },
  {
   "cell_type": "code",
   "execution_count": 18,
   "outputs": [
    {
     "data": {
      "text/plain": "(13796, 94)"
     },
     "execution_count": 18,
     "metadata": {},
     "output_type": "execute_result"
    }
   ],
   "source": [
    "# Adding 'one hot encoding' for specific columns\n",
    "\n",
    "columns = ['Time Unit', 'Type of Ownership', 'Location']  # for one-hot encoding\n",
    "jobs = Data_Cleaning.one_hot_encoding(jobs, columns)\n",
    "\n",
    "jobs.shape"
   ],
   "metadata": {
    "collapsed": false,
    "ExecuteTime": {
     "start_time": "2023-06-03T12:44:15.468497Z",
     "end_time": "2023-06-03T12:44:15.515393Z"
    }
   }
  },
  {
   "cell_type": "markdown",
   "source": [
    "## Only now we can connect the new data to the data base!"
   ],
   "metadata": {
    "collapsed": false
   }
  },
  {
   "cell_type": "code",
   "execution_count": 19,
   "outputs": [
    {
     "name": "stdout",
     "output_type": "stream",
     "text": [
      "shape before: (28392, 94)\n",
      "shape after: (28392, 94)\n"
     ]
    },
    {
     "data": {
      "text/plain": "     Salary Estimate  Annual Salary  \\\n0  $30.00 /hr (est.)        62400.0   \n1  $67.50 /hr (est.)       140400.0   \n2  $19.00 /hr (est.)        39520.0   \n3  $71.50 /hr (est.)       148720.0   \n4  $30.00 /hr (est.)        62400.0   \n\n                                           Job Title  Experience Education  \\\n0   Web Development Foundations (Complex) || Fresher         5.0         1   \n1                                     Cloud Engineer         5.0         2   \n2           Cyber Security and Cloud Computing Tutor         0.0         1   \n3                                    Cloud Architect         5.0         2   \n4  Scripting and Programming Foundations (Complex...         5.0         1   \n\n  Position                      Company Name    Rating Is Remote  Company Old  \\\n0        1                Hurix Digital\\n3.2  3.200000         1    23.000000   \n1       -1                          CloudXoo  3.915368         1    49.744186   \n2       -1  Georgetown Learning Centers\\n4.2  4.200000         1    49.744186   \n3       -1                          CloudXoo  3.915368         1    49.744186   \n4        1                Hurix Digital\\n3.2  3.200000         1    23.000000   \n\n   ... Location_ VT Location_ WA Location_ WI Location_ WV Location_ WY  \\\n0  ...            0            0            0            0            0   \n1  ...            0            0            0            0            0   \n2  ...            0            0            0            0            0   \n3  ...            0            0            0            0            0   \n4  ...            0            0            0            0            0   \n\n   Location_Colorado  Location_LA  Location_Michigan  Location_Pennsylvania  \\\n0                  0            0                  0                      0   \n1                  0            0                  0                      0   \n2                  0            0                  0                      0   \n3                  0            0                  0                      0   \n4                  0            0                  0                      0   \n\n   Location_Remote  \n0                1  \n1                1  \n2                1  \n3                1  \n4                1  \n\n[5 rows x 94 columns]",
      "text/html": "<div>\n<style scoped>\n    .dataframe tbody tr th:only-of-type {\n        vertical-align: middle;\n    }\n\n    .dataframe tbody tr th {\n        vertical-align: top;\n    }\n\n    .dataframe thead th {\n        text-align: right;\n    }\n</style>\n<table border=\"1\" class=\"dataframe\">\n  <thead>\n    <tr style=\"text-align: right;\">\n      <th></th>\n      <th>Salary Estimate</th>\n      <th>Annual Salary</th>\n      <th>Job Title</th>\n      <th>Experience</th>\n      <th>Education</th>\n      <th>Position</th>\n      <th>Company Name</th>\n      <th>Rating</th>\n      <th>Is Remote</th>\n      <th>Company Old</th>\n      <th>...</th>\n      <th>Location_ VT</th>\n      <th>Location_ WA</th>\n      <th>Location_ WI</th>\n      <th>Location_ WV</th>\n      <th>Location_ WY</th>\n      <th>Location_Colorado</th>\n      <th>Location_LA</th>\n      <th>Location_Michigan</th>\n      <th>Location_Pennsylvania</th>\n      <th>Location_Remote</th>\n    </tr>\n  </thead>\n  <tbody>\n    <tr>\n      <th>0</th>\n      <td>$30.00 /hr (est.)</td>\n      <td>62400.0</td>\n      <td>Web Development Foundations (Complex) || Fresher</td>\n      <td>5.0</td>\n      <td>1</td>\n      <td>1</td>\n      <td>Hurix Digital\\n3.2</td>\n      <td>3.200000</td>\n      <td>1</td>\n      <td>23.000000</td>\n      <td>...</td>\n      <td>0</td>\n      <td>0</td>\n      <td>0</td>\n      <td>0</td>\n      <td>0</td>\n      <td>0</td>\n      <td>0</td>\n      <td>0</td>\n      <td>0</td>\n      <td>1</td>\n    </tr>\n    <tr>\n      <th>1</th>\n      <td>$67.50 /hr (est.)</td>\n      <td>140400.0</td>\n      <td>Cloud Engineer</td>\n      <td>5.0</td>\n      <td>2</td>\n      <td>-1</td>\n      <td>CloudXoo</td>\n      <td>3.915368</td>\n      <td>1</td>\n      <td>49.744186</td>\n      <td>...</td>\n      <td>0</td>\n      <td>0</td>\n      <td>0</td>\n      <td>0</td>\n      <td>0</td>\n      <td>0</td>\n      <td>0</td>\n      <td>0</td>\n      <td>0</td>\n      <td>1</td>\n    </tr>\n    <tr>\n      <th>2</th>\n      <td>$19.00 /hr (est.)</td>\n      <td>39520.0</td>\n      <td>Cyber Security and Cloud Computing Tutor</td>\n      <td>0.0</td>\n      <td>1</td>\n      <td>-1</td>\n      <td>Georgetown Learning Centers\\n4.2</td>\n      <td>4.200000</td>\n      <td>1</td>\n      <td>49.744186</td>\n      <td>...</td>\n      <td>0</td>\n      <td>0</td>\n      <td>0</td>\n      <td>0</td>\n      <td>0</td>\n      <td>0</td>\n      <td>0</td>\n      <td>0</td>\n      <td>0</td>\n      <td>1</td>\n    </tr>\n    <tr>\n      <th>3</th>\n      <td>$71.50 /hr (est.)</td>\n      <td>148720.0</td>\n      <td>Cloud Architect</td>\n      <td>5.0</td>\n      <td>2</td>\n      <td>-1</td>\n      <td>CloudXoo</td>\n      <td>3.915368</td>\n      <td>1</td>\n      <td>49.744186</td>\n      <td>...</td>\n      <td>0</td>\n      <td>0</td>\n      <td>0</td>\n      <td>0</td>\n      <td>0</td>\n      <td>0</td>\n      <td>0</td>\n      <td>0</td>\n      <td>0</td>\n      <td>1</td>\n    </tr>\n    <tr>\n      <th>4</th>\n      <td>$30.00 /hr (est.)</td>\n      <td>62400.0</td>\n      <td>Scripting and Programming Foundations (Complex...</td>\n      <td>5.0</td>\n      <td>1</td>\n      <td>1</td>\n      <td>Hurix Digital\\n3.2</td>\n      <td>3.200000</td>\n      <td>1</td>\n      <td>23.000000</td>\n      <td>...</td>\n      <td>0</td>\n      <td>0</td>\n      <td>0</td>\n      <td>0</td>\n      <td>0</td>\n      <td>0</td>\n      <td>0</td>\n      <td>0</td>\n      <td>0</td>\n      <td>1</td>\n    </tr>\n  </tbody>\n</table>\n<p>5 rows × 94 columns</p>\n</div>"
     },
     "execution_count": 19,
     "metadata": {},
     "output_type": "execute_result"
    }
   ],
   "source": [
    "dataBase = pd.read_csv('DataBaseVar/DataBase_var1.csv', index_col=0)\n",
    "jobs = pd.concat([jobs, dataBase])\n",
    "print(f\"shape before: {jobs.shape}\")\n",
    "jobs.drop_duplicates(keep='first', inplace=True)\n",
    "print(f\"shape after: {jobs.shape}\")\n",
    "jobs.head()"
   ],
   "metadata": {
    "collapsed": false,
    "ExecuteTime": {
     "start_time": "2023-06-03T12:44:19.843098Z",
     "end_time": "2023-06-03T12:44:20.183957Z"
    }
   }
  },
  {
   "cell_type": "code",
   "execution_count": 20,
   "outputs": [],
   "source": [
    "jobs.to_csv('DataBase_var2.csv',index=False)"
   ],
   "metadata": {
    "collapsed": false,
    "ExecuteTime": {
     "start_time": "2023-06-03T12:44:26.630940Z",
     "end_time": "2023-06-03T12:44:27.457974Z"
    }
   }
  },
  {
   "cell_type": "code",
   "execution_count": null,
   "outputs": [],
   "source": [],
   "metadata": {
    "collapsed": false
   }
  }
 ],
 "metadata": {
  "kernelspec": {
   "display_name": "Python 3",
   "language": "python",
   "name": "python3"
  },
  "language_info": {
   "codemirror_mode": {
    "name": "ipython",
    "version": 2
   },
   "file_extension": ".py",
   "mimetype": "text/x-python",
   "name": "python",
   "nbconvert_exporter": "python",
   "pygments_lexer": "ipython2",
   "version": "2.7.6"
  }
 },
 "nbformat": 4,
 "nbformat_minor": 0
}
