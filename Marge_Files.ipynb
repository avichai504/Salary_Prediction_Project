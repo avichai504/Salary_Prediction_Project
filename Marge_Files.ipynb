{
 "cells": [
  {
   "cell_type": "code",
   "execution_count": 1,
   "outputs": [],
   "source": [
    "import pandas as pd\n",
    "import Data_Cleaning\n",
    "import os\n",
    "\n",
    "\n"
   ],
   "metadata": {
    "collapsed": false,
    "ExecuteTime": {
     "end_time": "2023-06-05T12:39:47.892068900Z",
     "start_time": "2023-06-05T12:39:47.751766100Z"
    }
   }
  },
  {
   "cell_type": "markdown",
   "source": [
    "# The ***GOALS*** of this script:\n",
    "## Dealing with each csv file alone:\n",
    "- Removing unnecessary columns (such as 'Time of Scrape...)\n",
    "- Removing all duplication\n",
    "- Adding 'Scale' columns for each non-numeric variable with a **ratio order**\n",
    "- Filling the missing values with the mean of each column\n",
    "## Mixing all files into one big DataBase:\n",
    "- Adding column named **'Origin'** to track the origin of each file and marge all files into one big DataBase\n",
    "- Removing all duplication that has accrued from margin files\n",
    "- counting the total number of data we have and go out to drink a bear :)"
   ],
   "metadata": {
    "collapsed": false
   }
  },
  {
   "cell_type": "code",
   "execution_count": 2,
   "outputs": [
    {
     "name": "stdout",
     "output_type": "stream",
     "text": [
      "Before dropping duplicates: (18, 23)\n",
      "After dropping all duplicates: (18, 23)\n"
     ]
    }
   ],
   "source": [
    "name_of_job = 'QA'\n",
    "path_to_folder = f\"data files/{name_of_job}/raw data\"\n",
    "df_QA = Data_Cleaning.merge_csv_files_in_folder(path_to_folder)\n"
   ],
   "metadata": {
    "collapsed": false,
    "ExecuteTime": {
     "end_time": "2023-06-05T12:39:49.182168400Z",
     "start_time": "2023-06-05T12:39:49.153167600Z"
    }
   }
  },
  {
   "cell_type": "code",
   "execution_count": 3,
   "outputs": [
    {
     "name": "stdout",
     "output_type": "stream",
     "text": [
      "Before dropping duplicates: (27, 23)\n",
      "After dropping all duplicates: (27, 23)\n"
     ]
    }
   ],
   "source": [
    "name_of_job = 'software engineer'\n",
    "path_to_folder = f\"data files/{name_of_job}/raw data\"\n",
    "df_SE = Data_Cleaning.merge_csv_files_in_folder(path_to_folder)\n"
   ],
   "metadata": {
    "collapsed": false,
    "ExecuteTime": {
     "end_time": "2023-06-05T12:39:49.855902200Z",
     "start_time": "2023-06-05T12:39:49.837901300Z"
    }
   }
  },
  {
   "cell_type": "code",
   "execution_count": 4,
   "outputs": [
    {
     "name": "stdout",
     "output_type": "stream",
     "text": [
      "Before dropping duplicates: (19, 23)\n",
      "After dropping all duplicates: (19, 23)\n"
     ]
    }
   ],
   "source": [
    "name_of_job = 'data scientist'\n",
    "path_to_folder = f\"data files/{name_of_job}/raw data\"\n",
    "df_DS = Data_Cleaning.merge_csv_files_in_folder(path_to_folder)\n"
   ],
   "metadata": {
    "collapsed": false,
    "ExecuteTime": {
     "end_time": "2023-06-05T12:39:50.317901600Z",
     "start_time": "2023-06-05T12:39:50.302896800Z"
    }
   }
  },
  {
   "cell_type": "code",
   "execution_count": 5,
   "outputs": [
    {
     "name": "stdout",
     "output_type": "stream",
     "text": [
      "Before dropping duplicates: (31, 23)\n",
      "After dropping all duplicates: (31, 23)\n"
     ]
    }
   ],
   "source": [
    "name_of_job = 'game development'\n",
    "path_to_folder = f\"data files/{name_of_job}/raw data\"\n",
    "df_GD = Data_Cleaning.merge_csv_files_in_folder(path_to_folder)\n"
   ],
   "metadata": {
    "collapsed": false,
    "ExecuteTime": {
     "end_time": "2023-06-05T12:39:50.876485900Z",
     "start_time": "2023-06-05T12:39:50.853451300Z"
    }
   }
  },
  {
   "cell_type": "code",
   "execution_count": 6,
   "outputs": [
    {
     "name": "stdout",
     "output_type": "stream",
     "text": [
      "Before dropping duplicates: (22, 23)\n",
      "After dropping all duplicates: (22, 23)\n"
     ]
    }
   ],
   "source": [
    "name_of_job = 'machine learning'\n",
    "path_to_folder = f\"data files/{name_of_job}/raw data\"\n",
    "df_ML = Data_Cleaning.merge_csv_files_in_folder(path_to_folder)"
   ],
   "metadata": {
    "collapsed": false,
    "ExecuteTime": {
     "end_time": "2023-06-05T12:39:51.332358900Z",
     "start_time": "2023-06-05T12:39:51.292773300Z"
    }
   }
  },
  {
   "cell_type": "markdown",
   "source": [
    "### Preprocessing stage for each df_name:\n",
    "- Adding 'Scale' columns\n",
    "- Filling the missing values with 'mean' for each column\n",
    "- Adding 'one hot encoding' for specific columns ONLY after marge!"
   ],
   "metadata": {
    "collapsed": false
   }
  },
  {
   "cell_type": "code",
   "execution_count": 7,
   "outputs": [],
   "source": [
    "# Adding 'Scale' columns\n",
    "job_list = [df_DS, df_SE, df_QA, df_ML, df_GD]\n",
    "\n",
    "for job in job_list:\n",
    "    Data_Cleaning.preprocess_scaling(job)\n"
   ],
   "metadata": {
    "collapsed": false,
    "ExecuteTime": {
     "end_time": "2023-06-05T12:39:52.462296300Z",
     "start_time": "2023-06-05T12:39:52.449291800Z"
    }
   }
  },
  {
   "cell_type": "code",
   "execution_count": 8,
   "outputs": [
    {
     "data": {
      "text/plain": "      Salary Estimate  Annual Salary  \\\n0  $79,578 /yr (est.)        79578.0   \n1   $23.50 /hr (est.)        48880.0   \n2  $76,940 /yr (est.)        76940.0   \n3  $99,893 /yr (est.)        99893.0   \n4  $50,000 /yr (est.)        50000.0   \n\n                                           Job Title  Experience  Education  \\\n0  BARDA Fellowship Opportunities in Medical Coun...           4          1   \n1                    Hybrid Administrative Assistant           3          1   \n2                                 Associate Engineer           0          2   \n3                           Solutions Engineer - USA           0          1   \n4                       Real Estate Office Assistant           2          2   \n\n   Position                                       Company Name Location  \\\n0         0                                                 -1       LA   \n1         0  Supporting Strategies - Merrimack Valley and S...       LA   \n2         0                      ConverseNow Technologies\\n4.6       LA   \n3         0                               INGENIOUS.BUILD\\n4.5       LA   \n4         0                                Bluelofts Inc.\\n5.0       LA   \n\n     Rating  Is Remote  ...                  Sector                   Revenue  \\\n0  4.033333          0  ...                      -1                        -1   \n1  3.800000          0  ...      Financial Services    $1 to $5 million (USD)   \n2  4.600000          0  ...  Information Technology  Unknown / Non-Applicable   \n3  4.500000          0  ...  Information Technology  Unknown / Non-Applicable   \n4  5.000000          0  ...                      -1                        -1   \n\n   Career Opportunities Comp & Benefits Culture & Values Senior Management  \\\n0               3.81875         3.74375            3.875           3.73125   \n1               3.40000         3.10000            3.700           3.70000   \n2               4.70000         4.60000            4.700           4.90000   \n3               4.50000         4.40000            4.500           4.30000   \n4               5.00000         5.00000            5.000           5.00000   \n\n  Work Life Balance  Time Unit  Scale_Company_Size  Scale_Revenue  \n0            3.9375         yr            4.454545            7.5  \n1            4.1000         hr            2.000000            2.0  \n2            4.6000         yr            2.000000            7.5  \n3            4.3000         yr            2.000000            7.5  \n4            5.0000         yr            4.454545            7.5  \n\n[5 rows x 25 columns]",
      "text/html": "<div>\n<style scoped>\n    .dataframe tbody tr th:only-of-type {\n        vertical-align: middle;\n    }\n\n    .dataframe tbody tr th {\n        vertical-align: top;\n    }\n\n    .dataframe thead th {\n        text-align: right;\n    }\n</style>\n<table border=\"1\" class=\"dataframe\">\n  <thead>\n    <tr style=\"text-align: right;\">\n      <th></th>\n      <th>Salary Estimate</th>\n      <th>Annual Salary</th>\n      <th>Job Title</th>\n      <th>Experience</th>\n      <th>Education</th>\n      <th>Position</th>\n      <th>Company Name</th>\n      <th>Location</th>\n      <th>Rating</th>\n      <th>Is Remote</th>\n      <th>...</th>\n      <th>Sector</th>\n      <th>Revenue</th>\n      <th>Career Opportunities</th>\n      <th>Comp &amp; Benefits</th>\n      <th>Culture &amp; Values</th>\n      <th>Senior Management</th>\n      <th>Work Life Balance</th>\n      <th>Time Unit</th>\n      <th>Scale_Company_Size</th>\n      <th>Scale_Revenue</th>\n    </tr>\n  </thead>\n  <tbody>\n    <tr>\n      <th>0</th>\n      <td>$79,578 /yr (est.)</td>\n      <td>79578.0</td>\n      <td>BARDA Fellowship Opportunities in Medical Coun...</td>\n      <td>4</td>\n      <td>1</td>\n      <td>0</td>\n      <td>-1</td>\n      <td>LA</td>\n      <td>4.033333</td>\n      <td>0</td>\n      <td>...</td>\n      <td>-1</td>\n      <td>-1</td>\n      <td>3.81875</td>\n      <td>3.74375</td>\n      <td>3.875</td>\n      <td>3.73125</td>\n      <td>3.9375</td>\n      <td>yr</td>\n      <td>4.454545</td>\n      <td>7.5</td>\n    </tr>\n    <tr>\n      <th>1</th>\n      <td>$23.50 /hr (est.)</td>\n      <td>48880.0</td>\n      <td>Hybrid Administrative Assistant</td>\n      <td>3</td>\n      <td>1</td>\n      <td>0</td>\n      <td>Supporting Strategies - Merrimack Valley and S...</td>\n      <td>LA</td>\n      <td>3.800000</td>\n      <td>0</td>\n      <td>...</td>\n      <td>Financial Services</td>\n      <td>$1 to $5 million (USD)</td>\n      <td>3.40000</td>\n      <td>3.10000</td>\n      <td>3.700</td>\n      <td>3.70000</td>\n      <td>4.1000</td>\n      <td>hr</td>\n      <td>2.000000</td>\n      <td>2.0</td>\n    </tr>\n    <tr>\n      <th>2</th>\n      <td>$76,940 /yr (est.)</td>\n      <td>76940.0</td>\n      <td>Associate Engineer</td>\n      <td>0</td>\n      <td>2</td>\n      <td>0</td>\n      <td>ConverseNow Technologies\\n4.6</td>\n      <td>LA</td>\n      <td>4.600000</td>\n      <td>0</td>\n      <td>...</td>\n      <td>Information Technology</td>\n      <td>Unknown / Non-Applicable</td>\n      <td>4.70000</td>\n      <td>4.60000</td>\n      <td>4.700</td>\n      <td>4.90000</td>\n      <td>4.6000</td>\n      <td>yr</td>\n      <td>2.000000</td>\n      <td>7.5</td>\n    </tr>\n    <tr>\n      <th>3</th>\n      <td>$99,893 /yr (est.)</td>\n      <td>99893.0</td>\n      <td>Solutions Engineer - USA</td>\n      <td>0</td>\n      <td>1</td>\n      <td>0</td>\n      <td>INGENIOUS.BUILD\\n4.5</td>\n      <td>LA</td>\n      <td>4.500000</td>\n      <td>0</td>\n      <td>...</td>\n      <td>Information Technology</td>\n      <td>Unknown / Non-Applicable</td>\n      <td>4.50000</td>\n      <td>4.40000</td>\n      <td>4.500</td>\n      <td>4.30000</td>\n      <td>4.3000</td>\n      <td>yr</td>\n      <td>2.000000</td>\n      <td>7.5</td>\n    </tr>\n    <tr>\n      <th>4</th>\n      <td>$50,000 /yr (est.)</td>\n      <td>50000.0</td>\n      <td>Real Estate Office Assistant</td>\n      <td>2</td>\n      <td>2</td>\n      <td>0</td>\n      <td>Bluelofts Inc.\\n5.0</td>\n      <td>LA</td>\n      <td>5.000000</td>\n      <td>0</td>\n      <td>...</td>\n      <td>-1</td>\n      <td>-1</td>\n      <td>5.00000</td>\n      <td>5.00000</td>\n      <td>5.000</td>\n      <td>5.00000</td>\n      <td>5.0000</td>\n      <td>yr</td>\n      <td>4.454545</td>\n      <td>7.5</td>\n    </tr>\n  </tbody>\n</table>\n<p>5 rows × 25 columns</p>\n</div>"
     },
     "execution_count": 8,
     "metadata": {},
     "output_type": "execute_result"
    }
   ],
   "source": [
    "# Filling the missing values with 'mean' for each column. And cleaning the location (agine, only if needed).\n",
    "list_location = ['Remote', 'United State', 'Michigan', 'Pennsylvania', 'Colorado']\n",
    "\n",
    "for job in job_list:\n",
    "    Data_Cleaning.filling_missing_values(job)\n",
    "\n",
    "    job['Location'] = job['Location'].fillna('')\n",
    "    job['Location'] = job['Location'].apply(lambda x: x.split(',')[-1])\n",
    "    job['Location'] = job['Location'].apply(lambda x: x if len(x) < 3 or x in list_location else 'LA')\n",
    "    job['Location'] = job['Location'].apply(lambda x: x if x != '-1' else 'LA')\n",
    "# print(df_DS.Location.unique())\n",
    "# print(df_DS['Type of Ownership'].unique())\n",
    "# print(df_SE.columns)\n",
    "df_ML.head()"
   ],
   "metadata": {
    "collapsed": false,
    "ExecuteTime": {
     "end_time": "2023-06-05T12:39:52.982912300Z",
     "start_time": "2023-06-05T12:39:52.893913100Z"
    }
   }
  },
  {
   "cell_type": "markdown",
   "source": [
    "# Margin the files into one DataBase"
   ],
   "metadata": {
    "collapsed": false
   }
  },
  {
   "cell_type": "code",
   "execution_count": 9,
   "outputs": [
    {
     "name": "stdout",
     "output_type": "stream",
     "text": [
      "shape before: (117, 25)\n",
      "shape after: (113, 25)\n"
     ]
    },
    {
     "data": {
      "text/plain": "       Salary Estimate  Annual Salary  \\\n0   $89,096 /yr (est.)        89096.0   \n1  $125,100 /yr (est.)       125100.0   \n2  $105,086 /yr (est.)       105086.0   \n3  $135,046 /yr (est.)       135046.0   \n4  $117,948 /yr (est.)       117948.0   \n\n                                           Job Title  Experience Education  \\\n0  Artificial Intelligence and Cybersecurity Rese...         8.0         1   \n1  Assistant Research Scientist AI Ethics Center ...         0.0         1   \n2  Artificial intelligence / Machine Learning Eng...         8.0         1   \n3       Artificial Intelligence Performance Engineer         5.0         1   \n4   Artificial Intelligence - Computational Linguist         0.0         2   \n\n  Position                       Company Name Location  Rating Is Remote  ...  \\\n0       -1        Argonne National Laboratory       LA     4.4         0  ...   \n1        0  University of California Berkeley       LA     4.2         0  ...   \n2        1                            Cotocus       LA     4.4         0  ...   \n3       -1        Advanced Micro Devices, Inc       LA     4.2         0  ...   \n4       -1                            VASS IT       LA     3.8         0  ...   \n\n                    Sector                   Revenue Career Opportunities  \\\n0  Management & Consulting  Unknown / Non-Applicable                  3.9   \n1                       -1                        -1                  4.0   \n2                       -1                        -1                  4.4   \n3   Information Technology        $10+ billion (USD)                  4.2   \n4                       -1                        -1                  3.4   \n\n  Comp & Benefits Culture & Values Senior Management Work Life Balance  \\\n0             4.0              4.2               3.9               4.3   \n1             3.7              4.2               4.2               4.2   \n2             4.2              4.1               4.3               4.2   \n3             3.7              4.2               3.9               3.9   \n4             3.0              3.1               3.0               3.6   \n\n   Time Unit  Scale_Company_Size  Scale_Revenue  \n0         yr                 5.0            4.5  \n1         yr                 3.5            4.5  \n2         yr                 3.5            4.5  \n3         yr                 7.0            9.0  \n4         yr                 3.5            4.5  \n\n[5 rows x 25 columns]",
      "text/html": "<div>\n<style scoped>\n    .dataframe tbody tr th:only-of-type {\n        vertical-align: middle;\n    }\n\n    .dataframe tbody tr th {\n        vertical-align: top;\n    }\n\n    .dataframe thead th {\n        text-align: right;\n    }\n</style>\n<table border=\"1\" class=\"dataframe\">\n  <thead>\n    <tr style=\"text-align: right;\">\n      <th></th>\n      <th>Salary Estimate</th>\n      <th>Annual Salary</th>\n      <th>Job Title</th>\n      <th>Experience</th>\n      <th>Education</th>\n      <th>Position</th>\n      <th>Company Name</th>\n      <th>Location</th>\n      <th>Rating</th>\n      <th>Is Remote</th>\n      <th>...</th>\n      <th>Sector</th>\n      <th>Revenue</th>\n      <th>Career Opportunities</th>\n      <th>Comp &amp; Benefits</th>\n      <th>Culture &amp; Values</th>\n      <th>Senior Management</th>\n      <th>Work Life Balance</th>\n      <th>Time Unit</th>\n      <th>Scale_Company_Size</th>\n      <th>Scale_Revenue</th>\n    </tr>\n  </thead>\n  <tbody>\n    <tr>\n      <th>0</th>\n      <td>$89,096 /yr (est.)</td>\n      <td>89096.0</td>\n      <td>Artificial Intelligence and Cybersecurity Rese...</td>\n      <td>8.0</td>\n      <td>1</td>\n      <td>-1</td>\n      <td>Argonne National Laboratory</td>\n      <td>LA</td>\n      <td>4.4</td>\n      <td>0</td>\n      <td>...</td>\n      <td>Management &amp; Consulting</td>\n      <td>Unknown / Non-Applicable</td>\n      <td>3.9</td>\n      <td>4.0</td>\n      <td>4.2</td>\n      <td>3.9</td>\n      <td>4.3</td>\n      <td>yr</td>\n      <td>5.0</td>\n      <td>4.5</td>\n    </tr>\n    <tr>\n      <th>1</th>\n      <td>$125,100 /yr (est.)</td>\n      <td>125100.0</td>\n      <td>Assistant Research Scientist AI Ethics Center ...</td>\n      <td>0.0</td>\n      <td>1</td>\n      <td>0</td>\n      <td>University of California Berkeley</td>\n      <td>LA</td>\n      <td>4.2</td>\n      <td>0</td>\n      <td>...</td>\n      <td>-1</td>\n      <td>-1</td>\n      <td>4.0</td>\n      <td>3.7</td>\n      <td>4.2</td>\n      <td>4.2</td>\n      <td>4.2</td>\n      <td>yr</td>\n      <td>3.5</td>\n      <td>4.5</td>\n    </tr>\n    <tr>\n      <th>2</th>\n      <td>$105,086 /yr (est.)</td>\n      <td>105086.0</td>\n      <td>Artificial intelligence / Machine Learning Eng...</td>\n      <td>8.0</td>\n      <td>1</td>\n      <td>1</td>\n      <td>Cotocus</td>\n      <td>LA</td>\n      <td>4.4</td>\n      <td>0</td>\n      <td>...</td>\n      <td>-1</td>\n      <td>-1</td>\n      <td>4.4</td>\n      <td>4.2</td>\n      <td>4.1</td>\n      <td>4.3</td>\n      <td>4.2</td>\n      <td>yr</td>\n      <td>3.5</td>\n      <td>4.5</td>\n    </tr>\n    <tr>\n      <th>3</th>\n      <td>$135,046 /yr (est.)</td>\n      <td>135046.0</td>\n      <td>Artificial Intelligence Performance Engineer</td>\n      <td>5.0</td>\n      <td>1</td>\n      <td>-1</td>\n      <td>Advanced Micro Devices, Inc</td>\n      <td>LA</td>\n      <td>4.2</td>\n      <td>0</td>\n      <td>...</td>\n      <td>Information Technology</td>\n      <td>$10+ billion (USD)</td>\n      <td>4.2</td>\n      <td>3.7</td>\n      <td>4.2</td>\n      <td>3.9</td>\n      <td>3.9</td>\n      <td>yr</td>\n      <td>7.0</td>\n      <td>9.0</td>\n    </tr>\n    <tr>\n      <th>4</th>\n      <td>$117,948 /yr (est.)</td>\n      <td>117948.0</td>\n      <td>Artificial Intelligence - Computational Linguist</td>\n      <td>0.0</td>\n      <td>2</td>\n      <td>-1</td>\n      <td>VASS IT</td>\n      <td>LA</td>\n      <td>3.8</td>\n      <td>0</td>\n      <td>...</td>\n      <td>-1</td>\n      <td>-1</td>\n      <td>3.4</td>\n      <td>3.0</td>\n      <td>3.1</td>\n      <td>3.0</td>\n      <td>3.6</td>\n      <td>yr</td>\n      <td>3.5</td>\n      <td>4.5</td>\n    </tr>\n  </tbody>\n</table>\n<p>5 rows × 25 columns</p>\n</div>"
     },
     "execution_count": 9,
     "metadata": {},
     "output_type": "execute_result"
    }
   ],
   "source": [
    "\n",
    "jobs_to_connect = [df_SE, df_ML, df_QA, df_DS, df_GD]\n",
    "jobs = pd.concat(jobs_to_connect)\n",
    "print(f\"shape before: {jobs.shape}\")\n",
    "jobs.drop_duplicates(keep='first', inplace=True)\n",
    "print(f\"shape after: {jobs.shape}\")\n",
    "jobs.head()"
   ],
   "metadata": {
    "collapsed": false,
    "ExecuteTime": {
     "end_time": "2023-06-05T12:39:53.796157Z",
     "start_time": "2023-06-05T12:39:53.762128200Z"
    }
   }
  },
  {
   "cell_type": "code",
   "execution_count": 9,
   "outputs": [],
   "source": [],
   "metadata": {
    "collapsed": false,
    "ExecuteTime": {
     "end_time": "2023-06-05T12:39:54.276286300Z",
     "start_time": "2023-06-05T12:39:54.265286700Z"
    }
   }
  },
  {
   "cell_type": "code",
   "execution_count": 9,
   "outputs": [],
   "source": [],
   "metadata": {
    "collapsed": false,
    "ExecuteTime": {
     "end_time": "2023-06-05T12:39:54.688952400Z",
     "start_time": "2023-06-05T12:39:54.677951800Z"
    }
   }
  },
  {
   "cell_type": "markdown",
   "source": [
    "## Only now we can connect the new data to the data base!\n",
    "### 'dataBase' will have the last version of our DataBase.\n",
    "## This is why we take the last file (-1) in the folder :)\n",
    "- 'jobs' will have all the new data we have collected during our current session"
   ],
   "metadata": {
    "collapsed": false
   }
  },
  {
   "cell_type": "code",
   "execution_count": 10,
   "outputs": [
    {
     "name": "stdout",
     "output_type": "stream",
     "text": [
      "shape before: (13909, 25)\n",
      "shape after: (13908, 25)\n"
     ]
    }
   ],
   "source": [
    "# Read and join\n",
    "\n",
    "list_of_files = os.listdir(\"DataBaseVar\")\n",
    "dataBase = pd.read_csv(f\"DataBaseVar/{list_of_files[-1]}\")\n",
    "\n",
    "jobs = pd.concat([jobs, dataBase])\n",
    "\n",
    "# print(f\"shape before: {jobs.shape}\")\n",
    "# jobs.drop_duplicates(keep='first', inplace=True)\n",
    "# print(f\"shape after: {jobs.shape}\")\n",
    "\n",
    "if 'Unnamed: 0' in list(jobs):\n",
    "    jobs = jobs.drop(['Unnamed: 0'], axis=1)\n",
    "\n",
    "if 'Unnamed: 0.1' in list(jobs):\n",
    "    jobs = jobs.drop(['Unnamed: 0.1'], axis=1)\n",
    "\n",
    "print(f\"shape before: {jobs.shape}\")\n",
    "jobs.drop_duplicates(keep='first', inplace=True)\n",
    "print(f\"shape after: {jobs.shape}\")"
   ],
   "metadata": {
    "collapsed": false,
    "ExecuteTime": {
     "end_time": "2023-06-05T12:39:55.689857700Z",
     "start_time": "2023-06-05T12:39:55.615343600Z"
    }
   }
  },
  {
   "cell_type": "code",
   "execution_count": 11,
   "outputs": [],
   "source": [
    "# Creating a new file with INDEX_FILE increased by one. WE do not want to override the existing file to ensure healthy processes.\n",
    "\n",
    "string = list_of_files[-1]\n",
    "\n",
    "# Find the index of the first digit in the string\n",
    "start_index = next((index for index, char in enumerate(string) if char.isdigit()), None)\n",
    "\n",
    "# Find the index of the first non-digit character after the number\n",
    "end_index = next((index for index, char in enumerate(string[start_index:]) if not char.isdigit()), None)\n",
    "if end_index is not None:\n",
    "    end_index += start_index\n",
    "\n",
    "number = int(string[start_index:end_index])\n",
    "number += 1"
   ],
   "metadata": {
    "collapsed": false,
    "ExecuteTime": {
     "end_time": "2023-06-05T12:39:56.602715300Z",
     "start_time": "2023-06-05T12:39:56.574360800Z"
    }
   }
  },
  {
   "cell_type": "code",
   "execution_count": 12,
   "outputs": [],
   "source": [
    "jobs.to_csv(f\"DataBaseVar/DataBase_var{number}.csv\", index=False)"
   ],
   "metadata": {
    "collapsed": false,
    "ExecuteTime": {
     "end_time": "2023-06-05T12:39:58.558334500Z",
     "start_time": "2023-06-05T12:39:58.416071100Z"
    }
   }
  },
  {
   "cell_type": "code",
   "execution_count": 13,
   "outputs": [],
   "source": [],
   "metadata": {
    "collapsed": false,
    "ExecuteTime": {
     "end_time": "2023-06-05T11:24:38.125046500Z",
     "start_time": "2023-06-05T11:24:38.080061900Z"
    }
   }
  },
  {
   "cell_type": "code",
   "execution_count": 13,
   "outputs": [],
   "source": [],
   "metadata": {
    "collapsed": false,
    "ExecuteTime": {
     "end_time": "2023-06-05T11:24:38.372305600Z",
     "start_time": "2023-06-05T11:24:38.358291100Z"
    }
   }
  },
  {
   "cell_type": "code",
   "execution_count": null,
   "outputs": [],
   "source": [],
   "metadata": {
    "collapsed": false
   }
  }
 ],
 "metadata": {
  "kernelspec": {
   "display_name": "Python 3",
   "language": "python",
   "name": "python3"
  },
  "language_info": {
   "codemirror_mode": {
    "name": "ipython",
    "version": 2
   },
   "file_extension": ".py",
   "mimetype": "text/x-python",
   "name": "python",
   "nbconvert_exporter": "python",
   "pygments_lexer": "ipython2",
   "version": "2.7.6"
  }
 },
 "nbformat": 4,
 "nbformat_minor": 0
}
