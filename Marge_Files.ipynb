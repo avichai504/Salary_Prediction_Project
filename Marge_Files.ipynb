{
 "cells": [
  {
   "cell_type": "code",
   "execution_count": 1,
   "outputs": [],
   "source": [
    "import pandas as pd\n",
    "import Data_Cleaning"
   ],
   "metadata": {
    "collapsed": false,
    "ExecuteTime": {
     "start_time": "2023-06-07T11:58:02.655974Z",
     "end_time": "2023-06-07T11:58:05.232402Z"
    }
   }
  },
  {
   "cell_type": "markdown",
   "source": [
    "# The ***GOALS*** of this script:\n",
    "## Dealing with each csv file alone:\n",
    "- Removing unnecessary columns (such as 'Time of Scrape...)\n",
    "- Removing all duplication\n",
    "- Adding 'Scale' columns for each non-numeric variable with a **ratio order**\n",
    "- Filling the missing values with the mean of each column\n",
    "## Mixing all files into one big DataBase:\n",
    "- Adding column named **'Origin'** to track the origin of each file and marge all files into one big DataBase\n",
    "- Removing all duplication that has accrued from margin files\n",
    "- counting the total number of data we have and go out to drink a bear :)"
   ],
   "metadata": {
    "collapsed": false
   }
  },
  {
   "cell_type": "code",
   "execution_count": 2,
   "outputs": [
    {
     "name": "stdout",
     "output_type": "stream",
     "text": [
      "Before dropping duplicates: (13065, 23)\n",
      "After dropping all duplicates: (3892, 23)\n"
     ]
    }
   ],
   "source": [
    "name_of_job = 'QA'\n",
    "path_to_folder = f\"data files/{name_of_job}/raw data\"\n",
    "df_QA = Data_Cleaning.merge_csv_files_in_folder(path_to_folder)\n"
   ],
   "metadata": {
    "collapsed": false,
    "ExecuteTime": {
     "start_time": "2023-06-07T11:58:10.115758Z",
     "end_time": "2023-06-07T11:58:11.186736Z"
    }
   }
  },
  {
   "cell_type": "code",
   "execution_count": 3,
   "outputs": [
    {
     "name": "stdout",
     "output_type": "stream",
     "text": [
      "Before dropping duplicates: (5880, 23)\n",
      "After dropping all duplicates: (1252, 23)\n"
     ]
    }
   ],
   "source": [
    "name_of_job = 'software engineer'\n",
    "path_to_folder = f\"data files/{name_of_job}/raw data\"\n",
    "df_SE = Data_Cleaning.merge_csv_files_in_folder(path_to_folder)\n"
   ],
   "metadata": {
    "collapsed": false,
    "ExecuteTime": {
     "start_time": "2023-06-07T11:58:17.435357Z",
     "end_time": "2023-06-07T11:58:17.893685Z"
    }
   }
  },
  {
   "cell_type": "code",
   "execution_count": 4,
   "outputs": [
    {
     "name": "stdout",
     "output_type": "stream",
     "text": [
      "Before dropping duplicates: (2748, 23)\n",
      "After dropping all duplicates: (2257, 23)\n"
     ]
    }
   ],
   "source": [
    "name_of_job = 'machine learning'\n",
    "path_to_folder = f\"data files/{name_of_job}/raw data\"\n",
    "df_ML = Data_Cleaning.merge_csv_files_in_folder(path_to_folder)\n"
   ],
   "metadata": {
    "collapsed": false,
    "ExecuteTime": {
     "start_time": "2023-06-07T11:58:19.458119Z",
     "end_time": "2023-06-07T11:58:19.793331Z"
    }
   }
  },
  {
   "cell_type": "code",
   "execution_count": 5,
   "outputs": [
    {
     "name": "stdout",
     "output_type": "stream",
     "text": [
      "Before dropping duplicates: (17082, 25)\n",
      "After dropping all duplicates: (14246, 25)\n"
     ]
    }
   ],
   "source": [
    "name_of_job = 'game development'\n",
    "path_to_folder = f\"data files/{name_of_job}/raw data\"\n",
    "df_GD = Data_Cleaning.merge_csv_files_in_folder(path_to_folder)"
   ],
   "metadata": {
    "collapsed": false,
    "ExecuteTime": {
     "start_time": "2023-06-07T11:58:20.871844Z",
     "end_time": "2023-06-07T11:58:21.107213Z"
    }
   }
  },
  {
   "cell_type": "code",
   "execution_count": 6,
   "outputs": [
    {
     "ename": "ValueError",
     "evalue": "No objects to concatenate",
     "output_type": "error",
     "traceback": [
      "\u001B[1;31m---------------------------------------------------------------------------\u001B[0m",
      "\u001B[1;31mValueError\u001B[0m                                Traceback (most recent call last)",
      "Cell \u001B[1;32mIn[6], line 3\u001B[0m\n\u001B[0;32m      1\u001B[0m name_of_job \u001B[38;5;241m=\u001B[39m \u001B[38;5;124m'\u001B[39m\u001B[38;5;124mdata science\u001B[39m\u001B[38;5;124m'\u001B[39m\n\u001B[0;32m      2\u001B[0m path_to_folder \u001B[38;5;241m=\u001B[39m \u001B[38;5;124mf\u001B[39m\u001B[38;5;124m\"\u001B[39m\u001B[38;5;124mdata files/\u001B[39m\u001B[38;5;132;01m{\u001B[39;00mname_of_job\u001B[38;5;132;01m}\u001B[39;00m\u001B[38;5;124m\"\u001B[39m\n\u001B[1;32m----> 3\u001B[0m df_DC \u001B[38;5;241m=\u001B[39m \u001B[43mData_Cleaning\u001B[49m\u001B[38;5;241;43m.\u001B[39;49m\u001B[43mmerge_csv_files_in_folder\u001B[49m\u001B[43m(\u001B[49m\u001B[43mpath_to_folder\u001B[49m\u001B[43m)\u001B[49m\n",
      "File \u001B[1;32m~\\DataspellProjects\\My_Project\\Data_Cleaning.py:233\u001B[0m, in \u001B[0;36mmerge_csv_files_in_folder\u001B[1;34m(folder_path)\u001B[0m\n\u001B[0;32m    230\u001B[0m         df_list\u001B[38;5;241m.\u001B[39mappend(df)\n\u001B[0;32m    232\u001B[0m \u001B[38;5;66;03m# Concatenate all dataframes in the list\u001B[39;00m\n\u001B[1;32m--> 233\u001B[0m merged_df \u001B[38;5;241m=\u001B[39m \u001B[43mpd\u001B[49m\u001B[38;5;241;43m.\u001B[39;49m\u001B[43mconcat\u001B[49m\u001B[43m(\u001B[49m\u001B[43mdf_list\u001B[49m\u001B[43m,\u001B[49m\u001B[43m \u001B[49m\u001B[43mignore_index\u001B[49m\u001B[38;5;241;43m=\u001B[39;49m\u001B[38;5;28;43;01mTrue\u001B[39;49;00m\u001B[43m)\u001B[49m\n\u001B[0;32m    234\u001B[0m \u001B[38;5;28;01mif\u001B[39;00m \u001B[38;5;124m'\u001B[39m\u001B[38;5;124mUnnamed: 0\u001B[39m\u001B[38;5;124m'\u001B[39m \u001B[38;5;129;01min\u001B[39;00m \u001B[38;5;28mlist\u001B[39m(merged_df):\n\u001B[0;32m    235\u001B[0m     merged_df\u001B[38;5;241m.\u001B[39mdrop(\u001B[38;5;124m'\u001B[39m\u001B[38;5;124mUnnamed: 0\u001B[39m\u001B[38;5;124m'\u001B[39m, axis\u001B[38;5;241m=\u001B[39m\u001B[38;5;241m1\u001B[39m, inplace\u001B[38;5;241m=\u001B[39m\u001B[38;5;28;01mTrue\u001B[39;00m)\n",
      "File \u001B[1;32m~\\anaconda3\\envs\\My_Project\\lib\\site-packages\\pandas\\util\\_decorators.py:331\u001B[0m, in \u001B[0;36mdeprecate_nonkeyword_arguments.<locals>.decorate.<locals>.wrapper\u001B[1;34m(*args, **kwargs)\u001B[0m\n\u001B[0;32m    325\u001B[0m \u001B[38;5;28;01mif\u001B[39;00m \u001B[38;5;28mlen\u001B[39m(args) \u001B[38;5;241m>\u001B[39m num_allow_args:\n\u001B[0;32m    326\u001B[0m     warnings\u001B[38;5;241m.\u001B[39mwarn(\n\u001B[0;32m    327\u001B[0m         msg\u001B[38;5;241m.\u001B[39mformat(arguments\u001B[38;5;241m=\u001B[39m_format_argument_list(allow_args)),\n\u001B[0;32m    328\u001B[0m         \u001B[38;5;167;01mFutureWarning\u001B[39;00m,\n\u001B[0;32m    329\u001B[0m         stacklevel\u001B[38;5;241m=\u001B[39mfind_stack_level(),\n\u001B[0;32m    330\u001B[0m     )\n\u001B[1;32m--> 331\u001B[0m \u001B[38;5;28;01mreturn\u001B[39;00m func(\u001B[38;5;241m*\u001B[39margs, \u001B[38;5;241m*\u001B[39m\u001B[38;5;241m*\u001B[39mkwargs)\n",
      "File \u001B[1;32m~\\anaconda3\\envs\\My_Project\\lib\\site-packages\\pandas\\core\\reshape\\concat.py:368\u001B[0m, in \u001B[0;36mconcat\u001B[1;34m(objs, axis, join, ignore_index, keys, levels, names, verify_integrity, sort, copy)\u001B[0m\n\u001B[0;32m    146\u001B[0m \u001B[38;5;129m@deprecate_nonkeyword_arguments\u001B[39m(version\u001B[38;5;241m=\u001B[39m\u001B[38;5;28;01mNone\u001B[39;00m, allowed_args\u001B[38;5;241m=\u001B[39m[\u001B[38;5;124m\"\u001B[39m\u001B[38;5;124mobjs\u001B[39m\u001B[38;5;124m\"\u001B[39m])\n\u001B[0;32m    147\u001B[0m \u001B[38;5;28;01mdef\u001B[39;00m \u001B[38;5;21mconcat\u001B[39m(\n\u001B[0;32m    148\u001B[0m     objs: Iterable[NDFrame] \u001B[38;5;241m|\u001B[39m Mapping[HashableT, NDFrame],\n\u001B[1;32m   (...)\u001B[0m\n\u001B[0;32m    157\u001B[0m     copy: \u001B[38;5;28mbool\u001B[39m \u001B[38;5;241m=\u001B[39m \u001B[38;5;28;01mTrue\u001B[39;00m,\n\u001B[0;32m    158\u001B[0m ) \u001B[38;5;241m-\u001B[39m\u001B[38;5;241m>\u001B[39m DataFrame \u001B[38;5;241m|\u001B[39m Series:\n\u001B[0;32m    159\u001B[0m     \u001B[38;5;124;03m\"\"\"\u001B[39;00m\n\u001B[0;32m    160\u001B[0m \u001B[38;5;124;03m    Concatenate pandas objects along a particular axis.\u001B[39;00m\n\u001B[0;32m    161\u001B[0m \n\u001B[1;32m   (...)\u001B[0m\n\u001B[0;32m    366\u001B[0m \u001B[38;5;124;03m    1   3   4\u001B[39;00m\n\u001B[0;32m    367\u001B[0m \u001B[38;5;124;03m    \"\"\"\u001B[39;00m\n\u001B[1;32m--> 368\u001B[0m     op \u001B[38;5;241m=\u001B[39m \u001B[43m_Concatenator\u001B[49m\u001B[43m(\u001B[49m\n\u001B[0;32m    369\u001B[0m \u001B[43m        \u001B[49m\u001B[43mobjs\u001B[49m\u001B[43m,\u001B[49m\n\u001B[0;32m    370\u001B[0m \u001B[43m        \u001B[49m\u001B[43maxis\u001B[49m\u001B[38;5;241;43m=\u001B[39;49m\u001B[43maxis\u001B[49m\u001B[43m,\u001B[49m\n\u001B[0;32m    371\u001B[0m \u001B[43m        \u001B[49m\u001B[43mignore_index\u001B[49m\u001B[38;5;241;43m=\u001B[39;49m\u001B[43mignore_index\u001B[49m\u001B[43m,\u001B[49m\n\u001B[0;32m    372\u001B[0m \u001B[43m        \u001B[49m\u001B[43mjoin\u001B[49m\u001B[38;5;241;43m=\u001B[39;49m\u001B[43mjoin\u001B[49m\u001B[43m,\u001B[49m\n\u001B[0;32m    373\u001B[0m \u001B[43m        \u001B[49m\u001B[43mkeys\u001B[49m\u001B[38;5;241;43m=\u001B[39;49m\u001B[43mkeys\u001B[49m\u001B[43m,\u001B[49m\n\u001B[0;32m    374\u001B[0m \u001B[43m        \u001B[49m\u001B[43mlevels\u001B[49m\u001B[38;5;241;43m=\u001B[39;49m\u001B[43mlevels\u001B[49m\u001B[43m,\u001B[49m\n\u001B[0;32m    375\u001B[0m \u001B[43m        \u001B[49m\u001B[43mnames\u001B[49m\u001B[38;5;241;43m=\u001B[39;49m\u001B[43mnames\u001B[49m\u001B[43m,\u001B[49m\n\u001B[0;32m    376\u001B[0m \u001B[43m        \u001B[49m\u001B[43mverify_integrity\u001B[49m\u001B[38;5;241;43m=\u001B[39;49m\u001B[43mverify_integrity\u001B[49m\u001B[43m,\u001B[49m\n\u001B[0;32m    377\u001B[0m \u001B[43m        \u001B[49m\u001B[43mcopy\u001B[49m\u001B[38;5;241;43m=\u001B[39;49m\u001B[43mcopy\u001B[49m\u001B[43m,\u001B[49m\n\u001B[0;32m    378\u001B[0m \u001B[43m        \u001B[49m\u001B[43msort\u001B[49m\u001B[38;5;241;43m=\u001B[39;49m\u001B[43msort\u001B[49m\u001B[43m,\u001B[49m\n\u001B[0;32m    379\u001B[0m \u001B[43m    \u001B[49m\u001B[43m)\u001B[49m\n\u001B[0;32m    381\u001B[0m     \u001B[38;5;28;01mreturn\u001B[39;00m op\u001B[38;5;241m.\u001B[39mget_result()\n",
      "File \u001B[1;32m~\\anaconda3\\envs\\My_Project\\lib\\site-packages\\pandas\\core\\reshape\\concat.py:425\u001B[0m, in \u001B[0;36m_Concatenator.__init__\u001B[1;34m(self, objs, axis, join, keys, levels, names, ignore_index, verify_integrity, copy, sort)\u001B[0m\n\u001B[0;32m    422\u001B[0m     objs \u001B[38;5;241m=\u001B[39m \u001B[38;5;28mlist\u001B[39m(objs)\n\u001B[0;32m    424\u001B[0m \u001B[38;5;28;01mif\u001B[39;00m \u001B[38;5;28mlen\u001B[39m(objs) \u001B[38;5;241m==\u001B[39m \u001B[38;5;241m0\u001B[39m:\n\u001B[1;32m--> 425\u001B[0m     \u001B[38;5;28;01mraise\u001B[39;00m \u001B[38;5;167;01mValueError\u001B[39;00m(\u001B[38;5;124m\"\u001B[39m\u001B[38;5;124mNo objects to concatenate\u001B[39m\u001B[38;5;124m\"\u001B[39m)\n\u001B[0;32m    427\u001B[0m \u001B[38;5;28;01mif\u001B[39;00m keys \u001B[38;5;129;01mis\u001B[39;00m \u001B[38;5;28;01mNone\u001B[39;00m:\n\u001B[0;32m    428\u001B[0m     objs \u001B[38;5;241m=\u001B[39m \u001B[38;5;28mlist\u001B[39m(com\u001B[38;5;241m.\u001B[39mnot_none(\u001B[38;5;241m*\u001B[39mobjs))\n",
      "\u001B[1;31mValueError\u001B[0m: No objects to concatenate"
     ]
    }
   ],
   "source": [
    "name_of_job = 'data science'\n",
    "path_to_folder = f\"data files/{name_of_job}\"\n",
    "df_DC = Data_Cleaning.merge_csv_files_in_folder(path_to_folder)"
   ],
   "metadata": {
    "collapsed": false,
    "ExecuteTime": {
     "start_time": "2023-06-06T22:43:20.702151Z",
     "end_time": "2023-06-06T22:43:22.121716Z"
    }
   }
  },
  {
   "cell_type": "markdown",
   "source": [
    "### Preprocessing stage for each df_name:\n",
    "- Adding 'Scale' columns\n",
    "- Filling the missing values with 'mean' for each column\n",
    "- Adding 'one hot encoding' for specific columns ONLY after marge!"
   ],
   "metadata": {
    "collapsed": false
   }
  },
  {
   "cell_type": "code",
   "execution_count": 6,
   "outputs": [],
   "source": [
    "# Adding 'Scale' columns\n",
    "job_list = [df_GD, df_ML, df_SE, df_QA]\n",
    "\n",
    "for job in job_list:\n",
    "    Data_Cleaning.preprocess_scaling(job)\n",
    "\n"
   ],
   "metadata": {
    "collapsed": false,
    "ExecuteTime": {
     "start_time": "2023-06-07T11:58:29.518226Z",
     "end_time": "2023-06-07T11:58:29.565121Z"
    }
   }
  },
  {
   "cell_type": "code",
   "execution_count": 7,
   "outputs": [
    {
     "data": {
      "text/plain": "       Salary Estimate  Annual Salary               Job Title  Experience  \\\n0  $134,769 /yr (est.)       134769.0      Lead Game Designer         0.0   \n1   $65,906 /yr (est.)        65906.0  Game Designer: Content         3.0   \n2    $32.50 /hr (est.)        67600.0           Game Designer         0.0   \n3  $107,500 /yr (est.)       107500.0    Game Designer - Reno         0.0   \n4    $22.50 /hr (est.)        46800.0  Game Design Instructor         0.0   \n\n   Education  Position        Company Name Location  Rating  Is Remote  ...  \\\n0          1         1  PlayStation Global       CA     4.0          0  ...   \n1          2         1             Firaxis       MD     4.4          0  ...   \n2          2        -1     Acara Solutions       FL     3.4          0  ...   \n3          2         1               Everi       NV     3.5          0  ...   \n4          1        -1               GameU   Remote     NaN          1  ...   \n\n                       Sector                           Revenue  \\\n0       Media & Communication                $10+ billion (USD)   \n1      Information Technology          Unknown / Non-Applicable   \n2  Human Resources & Staffing          Unknown / Non-Applicable   \n3               Manufacturing  $500 million to $1 billion (USD)   \n4                          -1                                -1   \n\n   Career Opportunities Comp & Benefits Culture & Values Senior Management  \\\n0                   3.4             3.7              3.9               3.4   \n1                   3.9             3.5              4.6               3.8   \n2                   3.2             3.2              3.2               3.1   \n3                   3.3             3.2              3.5               3.4   \n4                   NaN             NaN              NaN               NaN   \n\n  Work Life Balance  Time Unit  Scale_Company_Size  Scale_Revenue  \n0               3.8         yr                 6.0            9.0  \n1               4.4         yr                 2.0            NaN  \n2               3.5         hr                 7.0            NaN  \n3               3.5         yr                 5.0            7.0  \n4               NaN         hr                 NaN            NaN  \n\n[5 rows x 25 columns]",
      "text/html": "<div>\n<style scoped>\n    .dataframe tbody tr th:only-of-type {\n        vertical-align: middle;\n    }\n\n    .dataframe tbody tr th {\n        vertical-align: top;\n    }\n\n    .dataframe thead th {\n        text-align: right;\n    }\n</style>\n<table border=\"1\" class=\"dataframe\">\n  <thead>\n    <tr style=\"text-align: right;\">\n      <th></th>\n      <th>Salary Estimate</th>\n      <th>Annual Salary</th>\n      <th>Job Title</th>\n      <th>Experience</th>\n      <th>Education</th>\n      <th>Position</th>\n      <th>Company Name</th>\n      <th>Location</th>\n      <th>Rating</th>\n      <th>Is Remote</th>\n      <th>...</th>\n      <th>Sector</th>\n      <th>Revenue</th>\n      <th>Career Opportunities</th>\n      <th>Comp &amp; Benefits</th>\n      <th>Culture &amp; Values</th>\n      <th>Senior Management</th>\n      <th>Work Life Balance</th>\n      <th>Time Unit</th>\n      <th>Scale_Company_Size</th>\n      <th>Scale_Revenue</th>\n    </tr>\n  </thead>\n  <tbody>\n    <tr>\n      <th>0</th>\n      <td>$134,769 /yr (est.)</td>\n      <td>134769.0</td>\n      <td>Lead Game Designer</td>\n      <td>0.0</td>\n      <td>1</td>\n      <td>1</td>\n      <td>PlayStation Global</td>\n      <td>CA</td>\n      <td>4.0</td>\n      <td>0</td>\n      <td>...</td>\n      <td>Media &amp; Communication</td>\n      <td>$10+ billion (USD)</td>\n      <td>3.4</td>\n      <td>3.7</td>\n      <td>3.9</td>\n      <td>3.4</td>\n      <td>3.8</td>\n      <td>yr</td>\n      <td>6.0</td>\n      <td>9.0</td>\n    </tr>\n    <tr>\n      <th>1</th>\n      <td>$65,906 /yr (est.)</td>\n      <td>65906.0</td>\n      <td>Game Designer: Content</td>\n      <td>3.0</td>\n      <td>2</td>\n      <td>1</td>\n      <td>Firaxis</td>\n      <td>MD</td>\n      <td>4.4</td>\n      <td>0</td>\n      <td>...</td>\n      <td>Information Technology</td>\n      <td>Unknown / Non-Applicable</td>\n      <td>3.9</td>\n      <td>3.5</td>\n      <td>4.6</td>\n      <td>3.8</td>\n      <td>4.4</td>\n      <td>yr</td>\n      <td>2.0</td>\n      <td>NaN</td>\n    </tr>\n    <tr>\n      <th>2</th>\n      <td>$32.50 /hr (est.)</td>\n      <td>67600.0</td>\n      <td>Game Designer</td>\n      <td>0.0</td>\n      <td>2</td>\n      <td>-1</td>\n      <td>Acara Solutions</td>\n      <td>FL</td>\n      <td>3.4</td>\n      <td>0</td>\n      <td>...</td>\n      <td>Human Resources &amp; Staffing</td>\n      <td>Unknown / Non-Applicable</td>\n      <td>3.2</td>\n      <td>3.2</td>\n      <td>3.2</td>\n      <td>3.1</td>\n      <td>3.5</td>\n      <td>hr</td>\n      <td>7.0</td>\n      <td>NaN</td>\n    </tr>\n    <tr>\n      <th>3</th>\n      <td>$107,500 /yr (est.)</td>\n      <td>107500.0</td>\n      <td>Game Designer - Reno</td>\n      <td>0.0</td>\n      <td>2</td>\n      <td>1</td>\n      <td>Everi</td>\n      <td>NV</td>\n      <td>3.5</td>\n      <td>0</td>\n      <td>...</td>\n      <td>Manufacturing</td>\n      <td>$500 million to $1 billion (USD)</td>\n      <td>3.3</td>\n      <td>3.2</td>\n      <td>3.5</td>\n      <td>3.4</td>\n      <td>3.5</td>\n      <td>yr</td>\n      <td>5.0</td>\n      <td>7.0</td>\n    </tr>\n    <tr>\n      <th>4</th>\n      <td>$22.50 /hr (est.)</td>\n      <td>46800.0</td>\n      <td>Game Design Instructor</td>\n      <td>0.0</td>\n      <td>1</td>\n      <td>-1</td>\n      <td>GameU</td>\n      <td>Remote</td>\n      <td>NaN</td>\n      <td>1</td>\n      <td>...</td>\n      <td>-1</td>\n      <td>-1</td>\n      <td>NaN</td>\n      <td>NaN</td>\n      <td>NaN</td>\n      <td>NaN</td>\n      <td>NaN</td>\n      <td>hr</td>\n      <td>NaN</td>\n      <td>NaN</td>\n    </tr>\n  </tbody>\n</table>\n<p>5 rows × 25 columns</p>\n</div>"
     },
     "execution_count": 7,
     "metadata": {},
     "output_type": "execute_result"
    }
   ],
   "source": [
    "# Filling the missing values with 'mean' for each column. And cleaning the location (agine, only if needed).\n",
    "list_location = ['Remote', 'United State', 'Michigan', 'Pennsylvania', 'Colorado']\n",
    "for job in job_list:\n",
    "    Data_Cleaning.filling_missing_values(job)\n",
    "    job['Location'] = job['Location'].fillna('')\n",
    "    job['Location'] = job['Location'].apply(lambda x: x.split(',')[-1])\n",
    "    job['Location'] = job['Location'].apply(lambda x: x if len(x) < 4 or x in list_location else 'LA')\n",
    "    job['Location'] = job['Location'].apply(lambda x: x if x != '-1' else 'LA')\n",
    "# print(df_DS.Location.unique())\n",
    "# print(df_DS['Type of Ownership'].unique())\n",
    "# print(df_SE.columns)\n",
    "df_GD.head()"
   ],
   "metadata": {
    "collapsed": false,
    "ExecuteTime": {
     "start_time": "2023-06-07T11:58:41.846753Z",
     "end_time": "2023-06-07T11:58:41.992032Z"
    }
   }
  },
  {
   "cell_type": "markdown",
   "source": [
    "# Margin the files into one DataBase"
   ],
   "metadata": {
    "collapsed": false
   }
  },
  {
   "cell_type": "code",
   "execution_count": 8,
   "outputs": [
    {
     "name": "stdout",
     "output_type": "stream",
     "text": [
      "shape before: (21647, 25)\n",
      "shape after: (16685, 25)\n"
     ]
    },
    {
     "data": {
      "text/plain": "        Salary Estimate  Annual Salary  \\\n0   $134,769 /yr (est.)       134769.0   \n1    $65,906 /yr (est.)        65906.0   \n2     $32.50 /hr (est.)        67600.0   \n3   $107,500 /yr (est.)       107500.0   \n4     $22.50 /hr (est.)        46800.0   \n..                  ...            ...   \n95   $96,582 /yr (est.)        96582.0   \n96   $55,781 /yr (est.)        55781.0   \n97   $45,356 /yr (est.)        45356.0   \n98   $80,000 /yr (est.)        80000.0   \n99   $81,618 /yr (est.)        81618.0   \n\n                                     Job Title  Experience Education Position  \\\n0                           Lead Game Designer         0.0         1        1   \n1                       Game Designer: Content         3.0         2        1   \n2                                Game Designer         0.0         2       -1   \n3                         Game Designer - Reno         0.0         2        1   \n4                       Game Design Instructor         0.0         1       -1   \n..                                         ...         ...       ...      ...   \n95                              Designer (NST)         0.0         1        1   \n96                   Game Designer - Full Time         0.0         1        1   \n97  Game UI Designer - Full Time and Freelance         0.0         1       -1   \n98                       Game Systems Designer         3.0         1       -1   \n99                       Game Economy Designer         0.0         1       -1   \n\n                 Company Name Location  Rating Is Remote  ...  \\\n0          PlayStation Global       CA     4.0         0  ...   \n1                     Firaxis       MD     4.4         0  ...   \n2             Acara Solutions       FL     3.4         0  ...   \n3                       Everi       NV     3.5         0  ...   \n4                       GameU   Remote     NaN         1  ...   \n..                        ...      ...     ...       ...  ...   \n95                   Nintendo       WA     4.6         0  ...   \n96             Filament Games       WI     4.9         0  ...   \n97             Filament Games       WI     4.9         0  ...   \n98  Bit Fry Game Studios. Inc   Remote     NaN         1  ...   \n99         PlayStation Global       CA     4.0         0  ...   \n\n                        Sector                           Revenue  \\\n0        Media & Communication                $10+ billion (USD)   \n1       Information Technology          Unknown / Non-Applicable   \n2   Human Resources & Staffing          Unknown / Non-Applicable   \n3                Manufacturing  $500 million to $1 billion (USD)   \n4                           -1                                -1   \n..                         ...                               ...   \n95                          -1                                -1   \n96                   Education            $1 to $5 million (USD)   \n97                   Education            $1 to $5 million (USD)   \n98                          -1                                -1   \n99       Media & Communication                $10+ billion (USD)   \n\n   Career Opportunities Comp & Benefits Culture & Values Senior Management  \\\n0                   3.4             3.7              3.9               3.4   \n1                   3.9             3.5              4.6               3.8   \n2                   3.2             3.2              3.2               3.1   \n3                   3.3             3.2              3.5               3.4   \n4                   NaN             NaN              NaN               NaN   \n..                  ...             ...              ...               ...   \n95                  3.9             4.1              4.3               4.0   \n96                  3.9             3.9              4.5               4.6   \n97                  3.9             3.9              4.5               4.6   \n98                  NaN             NaN              NaN               NaN   \n99                  3.4             3.7              3.9               3.4   \n\n   Work Life Balance  Time Unit  Scale_Company_Size  Scale_Revenue  \n0                3.8         yr                 6.0            9.0  \n1                4.4         yr                 2.0            NaN  \n2                3.5         hr                 7.0            NaN  \n3                3.5         yr                 5.0            7.0  \n4                NaN         hr                 NaN            NaN  \n..               ...        ...                 ...            ...  \n95               3.9         yr                 NaN            NaN  \n96               4.9         yr                 2.0            2.0  \n97               4.9         yr                 2.0            2.0  \n98               NaN         yr                 NaN            NaN  \n99               3.8         yr                 6.0            9.0  \n\n[100 rows x 25 columns]",
      "text/html": "<div>\n<style scoped>\n    .dataframe tbody tr th:only-of-type {\n        vertical-align: middle;\n    }\n\n    .dataframe tbody tr th {\n        vertical-align: top;\n    }\n\n    .dataframe thead th {\n        text-align: right;\n    }\n</style>\n<table border=\"1\" class=\"dataframe\">\n  <thead>\n    <tr style=\"text-align: right;\">\n      <th></th>\n      <th>Salary Estimate</th>\n      <th>Annual Salary</th>\n      <th>Job Title</th>\n      <th>Experience</th>\n      <th>Education</th>\n      <th>Position</th>\n      <th>Company Name</th>\n      <th>Location</th>\n      <th>Rating</th>\n      <th>Is Remote</th>\n      <th>...</th>\n      <th>Sector</th>\n      <th>Revenue</th>\n      <th>Career Opportunities</th>\n      <th>Comp &amp; Benefits</th>\n      <th>Culture &amp; Values</th>\n      <th>Senior Management</th>\n      <th>Work Life Balance</th>\n      <th>Time Unit</th>\n      <th>Scale_Company_Size</th>\n      <th>Scale_Revenue</th>\n    </tr>\n  </thead>\n  <tbody>\n    <tr>\n      <th>0</th>\n      <td>$134,769 /yr (est.)</td>\n      <td>134769.0</td>\n      <td>Lead Game Designer</td>\n      <td>0.0</td>\n      <td>1</td>\n      <td>1</td>\n      <td>PlayStation Global</td>\n      <td>CA</td>\n      <td>4.0</td>\n      <td>0</td>\n      <td>...</td>\n      <td>Media &amp; Communication</td>\n      <td>$10+ billion (USD)</td>\n      <td>3.4</td>\n      <td>3.7</td>\n      <td>3.9</td>\n      <td>3.4</td>\n      <td>3.8</td>\n      <td>yr</td>\n      <td>6.0</td>\n      <td>9.0</td>\n    </tr>\n    <tr>\n      <th>1</th>\n      <td>$65,906 /yr (est.)</td>\n      <td>65906.0</td>\n      <td>Game Designer: Content</td>\n      <td>3.0</td>\n      <td>2</td>\n      <td>1</td>\n      <td>Firaxis</td>\n      <td>MD</td>\n      <td>4.4</td>\n      <td>0</td>\n      <td>...</td>\n      <td>Information Technology</td>\n      <td>Unknown / Non-Applicable</td>\n      <td>3.9</td>\n      <td>3.5</td>\n      <td>4.6</td>\n      <td>3.8</td>\n      <td>4.4</td>\n      <td>yr</td>\n      <td>2.0</td>\n      <td>NaN</td>\n    </tr>\n    <tr>\n      <th>2</th>\n      <td>$32.50 /hr (est.)</td>\n      <td>67600.0</td>\n      <td>Game Designer</td>\n      <td>0.0</td>\n      <td>2</td>\n      <td>-1</td>\n      <td>Acara Solutions</td>\n      <td>FL</td>\n      <td>3.4</td>\n      <td>0</td>\n      <td>...</td>\n      <td>Human Resources &amp; Staffing</td>\n      <td>Unknown / Non-Applicable</td>\n      <td>3.2</td>\n      <td>3.2</td>\n      <td>3.2</td>\n      <td>3.1</td>\n      <td>3.5</td>\n      <td>hr</td>\n      <td>7.0</td>\n      <td>NaN</td>\n    </tr>\n    <tr>\n      <th>3</th>\n      <td>$107,500 /yr (est.)</td>\n      <td>107500.0</td>\n      <td>Game Designer - Reno</td>\n      <td>0.0</td>\n      <td>2</td>\n      <td>1</td>\n      <td>Everi</td>\n      <td>NV</td>\n      <td>3.5</td>\n      <td>0</td>\n      <td>...</td>\n      <td>Manufacturing</td>\n      <td>$500 million to $1 billion (USD)</td>\n      <td>3.3</td>\n      <td>3.2</td>\n      <td>3.5</td>\n      <td>3.4</td>\n      <td>3.5</td>\n      <td>yr</td>\n      <td>5.0</td>\n      <td>7.0</td>\n    </tr>\n    <tr>\n      <th>4</th>\n      <td>$22.50 /hr (est.)</td>\n      <td>46800.0</td>\n      <td>Game Design Instructor</td>\n      <td>0.0</td>\n      <td>1</td>\n      <td>-1</td>\n      <td>GameU</td>\n      <td>Remote</td>\n      <td>NaN</td>\n      <td>1</td>\n      <td>...</td>\n      <td>-1</td>\n      <td>-1</td>\n      <td>NaN</td>\n      <td>NaN</td>\n      <td>NaN</td>\n      <td>NaN</td>\n      <td>NaN</td>\n      <td>hr</td>\n      <td>NaN</td>\n      <td>NaN</td>\n    </tr>\n    <tr>\n      <th>...</th>\n      <td>...</td>\n      <td>...</td>\n      <td>...</td>\n      <td>...</td>\n      <td>...</td>\n      <td>...</td>\n      <td>...</td>\n      <td>...</td>\n      <td>...</td>\n      <td>...</td>\n      <td>...</td>\n      <td>...</td>\n      <td>...</td>\n      <td>...</td>\n      <td>...</td>\n      <td>...</td>\n      <td>...</td>\n      <td>...</td>\n      <td>...</td>\n      <td>...</td>\n      <td>...</td>\n    </tr>\n    <tr>\n      <th>95</th>\n      <td>$96,582 /yr (est.)</td>\n      <td>96582.0</td>\n      <td>Designer (NST)</td>\n      <td>0.0</td>\n      <td>1</td>\n      <td>1</td>\n      <td>Nintendo</td>\n      <td>WA</td>\n      <td>4.6</td>\n      <td>0</td>\n      <td>...</td>\n      <td>-1</td>\n      <td>-1</td>\n      <td>3.9</td>\n      <td>4.1</td>\n      <td>4.3</td>\n      <td>4.0</td>\n      <td>3.9</td>\n      <td>yr</td>\n      <td>NaN</td>\n      <td>NaN</td>\n    </tr>\n    <tr>\n      <th>96</th>\n      <td>$55,781 /yr (est.)</td>\n      <td>55781.0</td>\n      <td>Game Designer - Full Time</td>\n      <td>0.0</td>\n      <td>1</td>\n      <td>1</td>\n      <td>Filament Games</td>\n      <td>WI</td>\n      <td>4.9</td>\n      <td>0</td>\n      <td>...</td>\n      <td>Education</td>\n      <td>$1 to $5 million (USD)</td>\n      <td>3.9</td>\n      <td>3.9</td>\n      <td>4.5</td>\n      <td>4.6</td>\n      <td>4.9</td>\n      <td>yr</td>\n      <td>2.0</td>\n      <td>2.0</td>\n    </tr>\n    <tr>\n      <th>97</th>\n      <td>$45,356 /yr (est.)</td>\n      <td>45356.0</td>\n      <td>Game UI Designer - Full Time and Freelance</td>\n      <td>0.0</td>\n      <td>1</td>\n      <td>-1</td>\n      <td>Filament Games</td>\n      <td>WI</td>\n      <td>4.9</td>\n      <td>0</td>\n      <td>...</td>\n      <td>Education</td>\n      <td>$1 to $5 million (USD)</td>\n      <td>3.9</td>\n      <td>3.9</td>\n      <td>4.5</td>\n      <td>4.6</td>\n      <td>4.9</td>\n      <td>yr</td>\n      <td>2.0</td>\n      <td>2.0</td>\n    </tr>\n    <tr>\n      <th>98</th>\n      <td>$80,000 /yr (est.)</td>\n      <td>80000.0</td>\n      <td>Game Systems Designer</td>\n      <td>3.0</td>\n      <td>1</td>\n      <td>-1</td>\n      <td>Bit Fry Game Studios. Inc</td>\n      <td>Remote</td>\n      <td>NaN</td>\n      <td>1</td>\n      <td>...</td>\n      <td>-1</td>\n      <td>-1</td>\n      <td>NaN</td>\n      <td>NaN</td>\n      <td>NaN</td>\n      <td>NaN</td>\n      <td>NaN</td>\n      <td>yr</td>\n      <td>NaN</td>\n      <td>NaN</td>\n    </tr>\n    <tr>\n      <th>99</th>\n      <td>$81,618 /yr (est.)</td>\n      <td>81618.0</td>\n      <td>Game Economy Designer</td>\n      <td>0.0</td>\n      <td>1</td>\n      <td>-1</td>\n      <td>PlayStation Global</td>\n      <td>CA</td>\n      <td>4.0</td>\n      <td>0</td>\n      <td>...</td>\n      <td>Media &amp; Communication</td>\n      <td>$10+ billion (USD)</td>\n      <td>3.4</td>\n      <td>3.7</td>\n      <td>3.9</td>\n      <td>3.4</td>\n      <td>3.8</td>\n      <td>yr</td>\n      <td>6.0</td>\n      <td>9.0</td>\n    </tr>\n  </tbody>\n</table>\n<p>100 rows × 25 columns</p>\n</div>"
     },
     "execution_count": 8,
     "metadata": {},
     "output_type": "execute_result"
    }
   ],
   "source": [
    "jobs = pd.concat(job_list)\n",
    "print(f\"shape before: {jobs.shape}\")\n",
    "jobs.drop_duplicates(keep='first', inplace=True)\n",
    "print(f\"shape after: {jobs.shape}\")\n",
    "jobs.head(100)"
   ],
   "metadata": {
    "collapsed": false,
    "ExecuteTime": {
     "start_time": "2023-06-07T11:59:46.575309Z",
     "end_time": "2023-06-07T11:59:46.695306Z"
    }
   }
  },
  {
   "cell_type": "code",
   "execution_count": 10,
   "outputs": [
    {
     "data": {
      "text/plain": "(16685, 25)"
     },
     "execution_count": 10,
     "metadata": {},
     "output_type": "execute_result"
    }
   ],
   "source": [
    "# Adding 'one hot encoding' for specific columns\n",
    "\n",
    "# columns = ['Time Unit', 'Type of Ownership', 'Location']  # for one-hot encoding\n",
    "# jobs = Data_Cleaning.one_hot_encoding(jobs, columns)\n",
    "#\n",
    "jobs.shape"
   ],
   "metadata": {
    "collapsed": false,
    "ExecuteTime": {
     "start_time": "2023-06-06T22:46:13.868838Z",
     "end_time": "2023-06-06T22:46:13.900036Z"
    }
   }
  },
  {
   "cell_type": "markdown",
   "source": [
    "## Only now we can connect the new data to the data base!"
   ],
   "metadata": {
    "collapsed": false
   }
  },
  {
   "cell_type": "code",
   "execution_count": 25,
   "outputs": [
    {
     "name": "stdout",
     "output_type": "stream",
     "text": [
      "The older dataBase: (13796, 24)\n",
      "shape before: (43863, 25)\n",
      "shape after: (30067, 25)\n"
     ]
    },
    {
     "data": {
      "text/plain": "         Salary Estimate  Annual Salary  \\\n0    $134,769 /yr (est.)       134769.0   \n1     $65,906 /yr (est.)        65906.0   \n2      $32.50 /hr (est.)        67600.0   \n3    $107,500 /yr (est.)       107500.0   \n4      $22.50 /hr (est.)        46800.0   \n..                   ...            ...   \n383  $104,451 /yr (est.)       104451.0   \n384   $87,059 /yr (est.)        87059.0   \n385   $66,126 /yr (est.)        66126.0   \n386  $186,150 /yr (est.)       186150.0   \n387   $76,450 /yr (est.)        76450.0   \n\n                                      Job Title  Experience Education  \\\n0                            Lead Game Designer         0.0         1   \n1                        Game Designer: Content         3.0         2   \n2                                 Game Designer         0.0         2   \n3                          Game Designer - Reno         0.0         2   \n4                        Game Design Instructor         0.0         1   \n..                                          ...         ...       ...   \n383  Animation Gameplay Programmer (All Levels)         0.0         1   \n384                      UE Gameplay Programmer         4.0         1   \n385                          Programmer Analyst         5.0         1   \n386          Technical Director – Lightspeed LA         0.0         2   \n387                 ROBLOX- Gameplay Programmer         NaN        -1   \n\n    Position              Company Name Location  Rating Is Remote  ...  \\\n0          1        PlayStation Global       CA     4.0         0  ...   \n1          1                   Firaxis       MD     4.4         0  ...   \n2         -1           Acara Solutions       FL     3.4         0  ...   \n3          1                     Everi       NV     3.5         0  ...   \n4         -1                     GameU   Remote     NaN         1  ...   \n..       ...                       ...      ...     ...       ...  ...   \n383       -1            Rockstar Games       CA     4.3         0  ...   \n384       -1  Pure Imagination Studios       CA     3.0         0  ...   \n385        0    University of Missouri       MO     3.8         0  ...   \n386        1                   Tencent       CA     4.0         0  ...   \n387       -1              Jazplus, LLC       CA     NaN         0  ...   \n\n                         Sector                           Revenue  \\\n0         Media & Communication                $10+ billion (USD)   \n1        Information Technology          Unknown / Non-Applicable   \n2    Human Resources & Staffing          Unknown / Non-Applicable   \n3                 Manufacturing  $500 million to $1 billion (USD)   \n4                            -1                                -1   \n..                          ...                               ...   \n383       Media & Communication           $5 to $25 million (USD)   \n384                          -1                                -1   \n385                   Education            $1 to $5 billion (USD)   \n386      Information Technology          Unknown / Non-Applicable   \n387                          -1                                -1   \n\n    Career Opportunities Comp & Benefits Culture & Values Senior Management  \\\n0                    3.4             3.7              3.9               3.4   \n1                    3.9             3.5              4.6               3.8   \n2                    3.2             3.2              3.2               3.1   \n3                    3.3             3.2              3.5               3.4   \n4                    NaN             NaN              NaN               NaN   \n..                   ...             ...              ...               ...   \n383                  4.1             4.3              4.2               3.9   \n384                  3.0             3.6              3.2               3.0   \n385                  3.6             3.3              3.6               3.4   \n386                  4.0             4.1              3.9               3.7   \n387                  NaN             NaN              NaN               NaN   \n\n    Work Life Balance  Time Unit  Scale_Company_Size  Scale_Revenue  \n0                 3.8         yr                 6.0            9.0  \n1                 4.4         yr                 2.0            NaN  \n2                 3.5         hr                 7.0            NaN  \n3                 3.5         yr                 5.0            7.0  \n4                 NaN         hr                 NaN            NaN  \n..                ...        ...                 ...            ...  \n383               4.0         yr                 5.0            3.0  \n384               3.4         yr                 NaN            NaN  \n385               3.8         yr                 7.0            7.0  \n386               3.3         yr                 7.0            NaN  \n387               NaN         yr                 NaN            NaN  \n\n[200 rows x 25 columns]",
      "text/html": "<div>\n<style scoped>\n    .dataframe tbody tr th:only-of-type {\n        vertical-align: middle;\n    }\n\n    .dataframe tbody tr th {\n        vertical-align: top;\n    }\n\n    .dataframe thead th {\n        text-align: right;\n    }\n</style>\n<table border=\"1\" class=\"dataframe\">\n  <thead>\n    <tr style=\"text-align: right;\">\n      <th></th>\n      <th>Salary Estimate</th>\n      <th>Annual Salary</th>\n      <th>Job Title</th>\n      <th>Experience</th>\n      <th>Education</th>\n      <th>Position</th>\n      <th>Company Name</th>\n      <th>Location</th>\n      <th>Rating</th>\n      <th>Is Remote</th>\n      <th>...</th>\n      <th>Sector</th>\n      <th>Revenue</th>\n      <th>Career Opportunities</th>\n      <th>Comp &amp; Benefits</th>\n      <th>Culture &amp; Values</th>\n      <th>Senior Management</th>\n      <th>Work Life Balance</th>\n      <th>Time Unit</th>\n      <th>Scale_Company_Size</th>\n      <th>Scale_Revenue</th>\n    </tr>\n  </thead>\n  <tbody>\n    <tr>\n      <th>0</th>\n      <td>$134,769 /yr (est.)</td>\n      <td>134769.0</td>\n      <td>Lead Game Designer</td>\n      <td>0.0</td>\n      <td>1</td>\n      <td>1</td>\n      <td>PlayStation Global</td>\n      <td>CA</td>\n      <td>4.0</td>\n      <td>0</td>\n      <td>...</td>\n      <td>Media &amp; Communication</td>\n      <td>$10+ billion (USD)</td>\n      <td>3.4</td>\n      <td>3.7</td>\n      <td>3.9</td>\n      <td>3.4</td>\n      <td>3.8</td>\n      <td>yr</td>\n      <td>6.0</td>\n      <td>9.0</td>\n    </tr>\n    <tr>\n      <th>1</th>\n      <td>$65,906 /yr (est.)</td>\n      <td>65906.0</td>\n      <td>Game Designer: Content</td>\n      <td>3.0</td>\n      <td>2</td>\n      <td>1</td>\n      <td>Firaxis</td>\n      <td>MD</td>\n      <td>4.4</td>\n      <td>0</td>\n      <td>...</td>\n      <td>Information Technology</td>\n      <td>Unknown / Non-Applicable</td>\n      <td>3.9</td>\n      <td>3.5</td>\n      <td>4.6</td>\n      <td>3.8</td>\n      <td>4.4</td>\n      <td>yr</td>\n      <td>2.0</td>\n      <td>NaN</td>\n    </tr>\n    <tr>\n      <th>2</th>\n      <td>$32.50 /hr (est.)</td>\n      <td>67600.0</td>\n      <td>Game Designer</td>\n      <td>0.0</td>\n      <td>2</td>\n      <td>-1</td>\n      <td>Acara Solutions</td>\n      <td>FL</td>\n      <td>3.4</td>\n      <td>0</td>\n      <td>...</td>\n      <td>Human Resources &amp; Staffing</td>\n      <td>Unknown / Non-Applicable</td>\n      <td>3.2</td>\n      <td>3.2</td>\n      <td>3.2</td>\n      <td>3.1</td>\n      <td>3.5</td>\n      <td>hr</td>\n      <td>7.0</td>\n      <td>NaN</td>\n    </tr>\n    <tr>\n      <th>3</th>\n      <td>$107,500 /yr (est.)</td>\n      <td>107500.0</td>\n      <td>Game Designer - Reno</td>\n      <td>0.0</td>\n      <td>2</td>\n      <td>1</td>\n      <td>Everi</td>\n      <td>NV</td>\n      <td>3.5</td>\n      <td>0</td>\n      <td>...</td>\n      <td>Manufacturing</td>\n      <td>$500 million to $1 billion (USD)</td>\n      <td>3.3</td>\n      <td>3.2</td>\n      <td>3.5</td>\n      <td>3.4</td>\n      <td>3.5</td>\n      <td>yr</td>\n      <td>5.0</td>\n      <td>7.0</td>\n    </tr>\n    <tr>\n      <th>4</th>\n      <td>$22.50 /hr (est.)</td>\n      <td>46800.0</td>\n      <td>Game Design Instructor</td>\n      <td>0.0</td>\n      <td>1</td>\n      <td>-1</td>\n      <td>GameU</td>\n      <td>Remote</td>\n      <td>NaN</td>\n      <td>1</td>\n      <td>...</td>\n      <td>-1</td>\n      <td>-1</td>\n      <td>NaN</td>\n      <td>NaN</td>\n      <td>NaN</td>\n      <td>NaN</td>\n      <td>NaN</td>\n      <td>hr</td>\n      <td>NaN</td>\n      <td>NaN</td>\n    </tr>\n    <tr>\n      <th>...</th>\n      <td>...</td>\n      <td>...</td>\n      <td>...</td>\n      <td>...</td>\n      <td>...</td>\n      <td>...</td>\n      <td>...</td>\n      <td>...</td>\n      <td>...</td>\n      <td>...</td>\n      <td>...</td>\n      <td>...</td>\n      <td>...</td>\n      <td>...</td>\n      <td>...</td>\n      <td>...</td>\n      <td>...</td>\n      <td>...</td>\n      <td>...</td>\n      <td>...</td>\n      <td>...</td>\n    </tr>\n    <tr>\n      <th>383</th>\n      <td>$104,451 /yr (est.)</td>\n      <td>104451.0</td>\n      <td>Animation Gameplay Programmer (All Levels)</td>\n      <td>0.0</td>\n      <td>1</td>\n      <td>-1</td>\n      <td>Rockstar Games</td>\n      <td>CA</td>\n      <td>4.3</td>\n      <td>0</td>\n      <td>...</td>\n      <td>Media &amp; Communication</td>\n      <td>$5 to $25 million (USD)</td>\n      <td>4.1</td>\n      <td>4.3</td>\n      <td>4.2</td>\n      <td>3.9</td>\n      <td>4.0</td>\n      <td>yr</td>\n      <td>5.0</td>\n      <td>3.0</td>\n    </tr>\n    <tr>\n      <th>384</th>\n      <td>$87,059 /yr (est.)</td>\n      <td>87059.0</td>\n      <td>UE Gameplay Programmer</td>\n      <td>4.0</td>\n      <td>1</td>\n      <td>-1</td>\n      <td>Pure Imagination Studios</td>\n      <td>CA</td>\n      <td>3.0</td>\n      <td>0</td>\n      <td>...</td>\n      <td>-1</td>\n      <td>-1</td>\n      <td>3.0</td>\n      <td>3.6</td>\n      <td>3.2</td>\n      <td>3.0</td>\n      <td>3.4</td>\n      <td>yr</td>\n      <td>NaN</td>\n      <td>NaN</td>\n    </tr>\n    <tr>\n      <th>385</th>\n      <td>$66,126 /yr (est.)</td>\n      <td>66126.0</td>\n      <td>Programmer Analyst</td>\n      <td>5.0</td>\n      <td>1</td>\n      <td>0</td>\n      <td>University of Missouri</td>\n      <td>MO</td>\n      <td>3.8</td>\n      <td>0</td>\n      <td>...</td>\n      <td>Education</td>\n      <td>$1 to $5 billion (USD)</td>\n      <td>3.6</td>\n      <td>3.3</td>\n      <td>3.6</td>\n      <td>3.4</td>\n      <td>3.8</td>\n      <td>yr</td>\n      <td>7.0</td>\n      <td>7.0</td>\n    </tr>\n    <tr>\n      <th>386</th>\n      <td>$186,150 /yr (est.)</td>\n      <td>186150.0</td>\n      <td>Technical Director – Lightspeed LA</td>\n      <td>0.0</td>\n      <td>2</td>\n      <td>1</td>\n      <td>Tencent</td>\n      <td>CA</td>\n      <td>4.0</td>\n      <td>0</td>\n      <td>...</td>\n      <td>Information Technology</td>\n      <td>Unknown / Non-Applicable</td>\n      <td>4.0</td>\n      <td>4.1</td>\n      <td>3.9</td>\n      <td>3.7</td>\n      <td>3.3</td>\n      <td>yr</td>\n      <td>7.0</td>\n      <td>NaN</td>\n    </tr>\n    <tr>\n      <th>387</th>\n      <td>$76,450 /yr (est.)</td>\n      <td>76450.0</td>\n      <td>ROBLOX- Gameplay Programmer</td>\n      <td>NaN</td>\n      <td>-1</td>\n      <td>-1</td>\n      <td>Jazplus, LLC</td>\n      <td>CA</td>\n      <td>NaN</td>\n      <td>0</td>\n      <td>...</td>\n      <td>-1</td>\n      <td>-1</td>\n      <td>NaN</td>\n      <td>NaN</td>\n      <td>NaN</td>\n      <td>NaN</td>\n      <td>NaN</td>\n      <td>yr</td>\n      <td>NaN</td>\n      <td>NaN</td>\n    </tr>\n  </tbody>\n</table>\n<p>200 rows × 25 columns</p>\n</div>"
     },
     "execution_count": 25,
     "metadata": {},
     "output_type": "execute_result"
    }
   ],
   "source": [
    "dataBase = pd.read_csv('DataBaseVar/DataBase_var1.csv', index_col=0)\n",
    "print(f\"The older dataBase: {dataBase.shape}\")\n",
    "jobs = pd.concat([jobs, dataBase])\n",
    "print(f\"shape before: {jobs.shape}\")\n",
    "jobs.drop_duplicates(keep='first', inplace=True)\n",
    "print(f\"shape after: {jobs.shape}\")\n",
    "jobs.head(200)"
   ],
   "metadata": {
    "collapsed": false,
    "ExecuteTime": {
     "start_time": "2023-06-06T22:27:47.122193Z",
     "end_time": "2023-06-06T22:27:47.441228Z"
    }
   }
  },
  {
   "cell_type": "code",
   "execution_count": 24,
   "outputs": [],
   "source": [
    "jobs.to_csv('DataBase_var2.csv',index=False)"
   ],
   "metadata": {
    "collapsed": false,
    "ExecuteTime": {
     "start_time": "2023-06-06T22:26:41.284810Z",
     "end_time": "2023-06-06T22:26:41.739293Z"
    }
   }
  },
  {
   "cell_type": "code",
   "execution_count": null,
   "outputs": [],
   "source": [],
   "metadata": {
    "collapsed": false
   }
  }
 ],
 "metadata": {
  "kernelspec": {
   "display_name": "Python 3",
   "language": "python",
   "name": "python3"
  },
  "language_info": {
   "codemirror_mode": {
    "name": "ipython",
    "version": 2
   },
   "file_extension": ".py",
   "mimetype": "text/x-python",
   "name": "python",
   "nbconvert_exporter": "python",
   "pygments_lexer": "ipython2",
   "version": "2.7.6"
  }
 },
 "nbformat": 4,
 "nbformat_minor": 0
}
